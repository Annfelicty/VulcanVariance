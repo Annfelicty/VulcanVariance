# Import necessary libraries for data cleaning and analysis
# We import these specific libraries because:
# - pandas: Essential for data manipulation and analysis
# - numpy: Provides numerical computing capabilities
# - matplotlib/seaborn: For data visualization during cleaning process
# - sqlite3: To handle the IMDb database
# - zipfile/gzip: To extract compressed data files
import pandas as pd
import numpy as np
import matplotlib.pyplot as plt
import seaborn as sns
import sqlite3
import zipfile
import gzip
import os
import warnings
from pathlib import Path

# Configure pandas display options for better data inspection
pd.set_option('display.max_columns', None)
pd.set_option('display.max_rows', 100)
warnings.filterwarnings('ignore')

# Set up plotting
plt.style.use('default')
sns.set_palette("husl")

print("✅ Libraries imported successfully!")
print(f"Pandas version: {pd.__version__}")

# Set up file paths
original_data_path = Path('../Original_Data')
cleaned_data_path = Path('../Cleaned_Data')
cleaned_data_path.mkdir(exist_ok=True)

print(f"📁 Original data: {original_data_path}")
print(f"📁 Cleaned data: {cleaned_data_path}"){
 "cells": [
  {
   "cell_type": "markdown",
   "metadata": {},
   "source": [
    "# Movie Dataset EDA - Data Cleaning Phase\\n",
    "\\n",
    "This notebook focuses on cleaning and preparing multiple movie datasets for exploratory data analysis.\\n",
    "\\n",
    "## Datasets to Clean:\\n",
    "1. **bom.movie_gross.csv.gz** - Box office movie gross data\\n",
    "2. **im.db.zip** - IMDb database (compressed)\\n",
    "3. **rt.movie_info.tsv.gz** - Rotten Tomatoes movie information\\n",
    "4. **rt.reviews.tsv** - Rotten Tomatoes reviews\\n",
    "5. **tmdb.movies.csv.gz** - The Movie Database (TMDb) movie data\\n",
    "6. **tn.movie_budgets.csv.gz** - Movie budget information"
   ]
  }
 ],
 "metadata": {
  "kernelspec": {
   "display_name": "Python 3",
   "language": "python",
   "name": "python3"
  },
  "language_info": {
   "name": "python",
   "version": "3.8.5"
  }
 },
 "nbformat": 4,
 "nbformat_minor": 4
}
