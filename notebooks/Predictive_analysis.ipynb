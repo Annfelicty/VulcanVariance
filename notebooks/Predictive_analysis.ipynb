{
 "cells": [
  {
   "cell_type": "markdown",
   "metadata": {},
   "source": [
    "*Predictive Analysis*\n",
    "\n",
    "The film industry is a dynamic and competitive landscape where understanding key performance indicators is crucial for success. In this notebook, we delve into a dataset of movie information to explore various business questions that can inform strategic decisions. \n",
    "Our analyses aim to uncover insights into the factors that drive commercial success, the optimal investment strategies, and the market dynamics that shape the industry's revenue streams.\n",
    "\n",
    "The analyses will focus on the following business questions:\n",
    "\n",
    "Optimal Production Budget Range: What is the sweet spot in production budgets that maximizes return on investment (ROI)?\n",
    "\n",
    "Correlation between Critical Reception and Commercial Success: How does critical reception, as measured by ratings, correlate with performance?\n",
    "\n",
    "What is the domestic vs international revenue split trend?\n",
    "Understanding geographic revenue distribution helps in marketing budget allocation and release strategies.\n",
    "\n",
    "Genre with the Best Risk-Adjusted Returns: Which movie genres offer the best balance between profitability and risk?\n",
    "\n",
    "Popularity vs Box Office Performance: Does pre-release popularity predict commercial success? "
   ]
  },
  {
   "cell_type": "code",
   "execution_count": 196,
   "metadata": {},
   "outputs": [],
   "source": [
    "# load libraries\n",
    "\n",
    "import pandas as pd\n",
    "import numpy as np\n",
    "import matplotlib.pyplot as plt\n",
    "from scipy import stats\n",
    "from sklearn.model_selection import train_test_split\n",
    "from sklearn.metrics import r2_score\n",
    "from sklearn.linear_model import LinearRegression\n"
   ]
  },
  {
   "cell_type": "code",
   "execution_count": 197,
   "metadata": {},
   "outputs": [
    {
     "data": {
      "text/html": [
       "<div>\n",
       "<style scoped>\n",
       "    .dataframe tbody tr th:only-of-type {\n",
       "        vertical-align: middle;\n",
       "    }\n",
       "\n",
       "    .dataframe tbody tr th {\n",
       "        vertical-align: top;\n",
       "    }\n",
       "\n",
       "    .dataframe thead th {\n",
       "        text-align: right;\n",
       "    }\n",
       "</style>\n",
       "<table border=\"1\" class=\"dataframe\">\n",
       "  <thead>\n",
       "    <tr style=\"text-align: right;\">\n",
       "      <th></th>\n",
       "      <th>primary_title</th>\n",
       "      <th>original_title</th>\n",
       "      <th>start_year</th>\n",
       "      <th>runtime_minutes</th>\n",
       "      <th>genres</th>\n",
       "      <th>imdb_rating</th>\n",
       "      <th>imdb_votes</th>\n",
       "      <th>bom_title</th>\n",
       "      <th>studio</th>\n",
       "      <th>domestic_gross</th>\n",
       "      <th>...</th>\n",
       "      <th>primary_profession</th>\n",
       "      <th>person_id</th>\n",
       "      <th>join_title</th>\n",
       "      <th>join_year</th>\n",
       "      <th>tmdb_rating</th>\n",
       "      <th>tmdb_votes</th>\n",
       "      <th>popularity</th>\n",
       "      <th>production_budget</th>\n",
       "      <th>main_genre</th>\n",
       "      <th>production_budget_imputed</th>\n",
       "    </tr>\n",
       "    <tr>\n",
       "      <th>movie_id</th>\n",
       "      <th></th>\n",
       "      <th></th>\n",
       "      <th></th>\n",
       "      <th></th>\n",
       "      <th></th>\n",
       "      <th></th>\n",
       "      <th></th>\n",
       "      <th></th>\n",
       "      <th></th>\n",
       "      <th></th>\n",
       "      <th></th>\n",
       "      <th></th>\n",
       "      <th></th>\n",
       "      <th></th>\n",
       "      <th></th>\n",
       "      <th></th>\n",
       "      <th></th>\n",
       "      <th></th>\n",
       "      <th></th>\n",
       "      <th></th>\n",
       "      <th></th>\n",
       "    </tr>\n",
       "  </thead>\n",
       "  <tbody>\n",
       "    <tr>\n",
       "      <th>tt0315642</th>\n",
       "      <td>Wazir</td>\n",
       "      <td>Wazir</td>\n",
       "      <td>2016.0</td>\n",
       "      <td>103.0</td>\n",
       "      <td>Action,Crime,Drama</td>\n",
       "      <td>7.1</td>\n",
       "      <td>15378.0</td>\n",
       "      <td>Wazir</td>\n",
       "      <td>Relbig.</td>\n",
       "      <td>1100000.0</td>\n",
       "      <td>...</td>\n",
       "      <td>producer,writer,director</td>\n",
       "      <td>nm2349060</td>\n",
       "      <td>wazir</td>\n",
       "      <td>2016</td>\n",
       "      <td>6.6</td>\n",
       "      <td>63.0</td>\n",
       "      <td>3.881</td>\n",
       "      <td>NaN</td>\n",
       "      <td>Action</td>\n",
       "      <td>4.772234e+05</td>\n",
       "    </tr>\n",
       "    <tr>\n",
       "      <th>tt0337692</th>\n",
       "      <td>On the Road</td>\n",
       "      <td>On the Road</td>\n",
       "      <td>2012.0</td>\n",
       "      <td>124.0</td>\n",
       "      <td>Adventure,Drama,Romance</td>\n",
       "      <td>6.1</td>\n",
       "      <td>37886.0</td>\n",
       "      <td>On the Road</td>\n",
       "      <td>IFC</td>\n",
       "      <td>744000.0</td>\n",
       "      <td>...</td>\n",
       "      <td>director,producer,writer</td>\n",
       "      <td>nm0758574</td>\n",
       "      <td>on the road</td>\n",
       "      <td>2012</td>\n",
       "      <td>5.6</td>\n",
       "      <td>518.0</td>\n",
       "      <td>8.919</td>\n",
       "      <td>NaN</td>\n",
       "      <td>Adventure</td>\n",
       "      <td>3.257824e+06</td>\n",
       "    </tr>\n",
       "    <tr>\n",
       "      <th>tt0359950</th>\n",
       "      <td>The Secret Life of Walter Mitty</td>\n",
       "      <td>The Secret Life of Walter Mitty</td>\n",
       "      <td>2013.0</td>\n",
       "      <td>114.0</td>\n",
       "      <td>Adventure,Comedy,Drama</td>\n",
       "      <td>7.3</td>\n",
       "      <td>275300.0</td>\n",
       "      <td>The Secret Life of Walter Mitty</td>\n",
       "      <td>Fox</td>\n",
       "      <td>58200000.0</td>\n",
       "      <td>...</td>\n",
       "      <td>producer,actor,director</td>\n",
       "      <td>nm0001774</td>\n",
       "      <td>the secret life of walter mitty</td>\n",
       "      <td>2013</td>\n",
       "      <td>7.1</td>\n",
       "      <td>4859.0</td>\n",
       "      <td>10.743</td>\n",
       "      <td>91000000.0</td>\n",
       "      <td>Adventure</td>\n",
       "      <td>9.100000e+07</td>\n",
       "    </tr>\n",
       "    <tr>\n",
       "      <th>tt0365907</th>\n",
       "      <td>A Walk Among the Tombstones</td>\n",
       "      <td>A Walk Among the Tombstones</td>\n",
       "      <td>2014.0</td>\n",
       "      <td>114.0</td>\n",
       "      <td>Action,Crime,Drama</td>\n",
       "      <td>6.5</td>\n",
       "      <td>105116.0</td>\n",
       "      <td>A Walk Among the Tombstones</td>\n",
       "      <td>Uni.</td>\n",
       "      <td>26300000.0</td>\n",
       "      <td>...</td>\n",
       "      <td>writer,producer,director</td>\n",
       "      <td>nm0291082</td>\n",
       "      <td>a walk among the tombstones</td>\n",
       "      <td>2014</td>\n",
       "      <td>6.3</td>\n",
       "      <td>1685.0</td>\n",
       "      <td>19.373</td>\n",
       "      <td>28000000.0</td>\n",
       "      <td>Action</td>\n",
       "      <td>2.800000e+07</td>\n",
       "    </tr>\n",
       "    <tr>\n",
       "      <th>tt0369610</th>\n",
       "      <td>Jurassic World</td>\n",
       "      <td>Jurassic World</td>\n",
       "      <td>2015.0</td>\n",
       "      <td>124.0</td>\n",
       "      <td>Action,Adventure,Sci-Fi</td>\n",
       "      <td>7.0</td>\n",
       "      <td>539338.0</td>\n",
       "      <td>Jurassic World</td>\n",
       "      <td>Uni.</td>\n",
       "      <td>652300000.0</td>\n",
       "      <td>...</td>\n",
       "      <td>writer,producer,director</td>\n",
       "      <td>nm1119880</td>\n",
       "      <td>jurassic world</td>\n",
       "      <td>2015</td>\n",
       "      <td>6.6</td>\n",
       "      <td>14056.0</td>\n",
       "      <td>20.709</td>\n",
       "      <td>215000000.0</td>\n",
       "      <td>Action</td>\n",
       "      <td>2.150000e+08</td>\n",
       "    </tr>\n",
       "  </tbody>\n",
       "</table>\n",
       "<p>5 rows × 24 columns</p>\n",
       "</div>"
      ],
      "text/plain": [
       "                             primary_title                   original_title  \\\n",
       "movie_id                                                                      \n",
       "tt0315642                            Wazir                            Wazir   \n",
       "tt0337692                      On the Road                      On the Road   \n",
       "tt0359950  The Secret Life of Walter Mitty  The Secret Life of Walter Mitty   \n",
       "tt0365907      A Walk Among the Tombstones      A Walk Among the Tombstones   \n",
       "tt0369610                   Jurassic World                   Jurassic World   \n",
       "\n",
       "           start_year  runtime_minutes                   genres  imdb_rating  \\\n",
       "movie_id                                                                       \n",
       "tt0315642      2016.0            103.0       Action,Crime,Drama          7.1   \n",
       "tt0337692      2012.0            124.0  Adventure,Drama,Romance          6.1   \n",
       "tt0359950      2013.0            114.0   Adventure,Comedy,Drama          7.3   \n",
       "tt0365907      2014.0            114.0       Action,Crime,Drama          6.5   \n",
       "tt0369610      2015.0            124.0  Action,Adventure,Sci-Fi          7.0   \n",
       "\n",
       "           imdb_votes                        bom_title   studio  \\\n",
       "movie_id                                                          \n",
       "tt0315642     15378.0                            Wazir  Relbig.   \n",
       "tt0337692     37886.0                      On the Road      IFC   \n",
       "tt0359950    275300.0  The Secret Life of Walter Mitty      Fox   \n",
       "tt0365907    105116.0      A Walk Among the Tombstones     Uni.   \n",
       "tt0369610    539338.0                   Jurassic World     Uni.   \n",
       "\n",
       "           domestic_gross  ...        primary_profession  person_id  \\\n",
       "movie_id                   ...                                        \n",
       "tt0315642       1100000.0  ...  producer,writer,director  nm2349060   \n",
       "tt0337692        744000.0  ...  director,producer,writer  nm0758574   \n",
       "tt0359950      58200000.0  ...   producer,actor,director  nm0001774   \n",
       "tt0365907      26300000.0  ...  writer,producer,director  nm0291082   \n",
       "tt0369610     652300000.0  ...  writer,producer,director  nm1119880   \n",
       "\n",
       "                                join_title join_year tmdb_rating tmdb_votes  \\\n",
       "movie_id                                                                      \n",
       "tt0315642                            wazir      2016         6.6       63.0   \n",
       "tt0337692                      on the road      2012         5.6      518.0   \n",
       "tt0359950  the secret life of walter mitty      2013         7.1     4859.0   \n",
       "tt0365907      a walk among the tombstones      2014         6.3     1685.0   \n",
       "tt0369610                   jurassic world      2015         6.6    14056.0   \n",
       "\n",
       "          popularity  production_budget  main_genre  production_budget_imputed  \n",
       "movie_id                                                                        \n",
       "tt0315642      3.881                NaN      Action               4.772234e+05  \n",
       "tt0337692      8.919                NaN   Adventure               3.257824e+06  \n",
       "tt0359950     10.743         91000000.0   Adventure               9.100000e+07  \n",
       "tt0365907     19.373         28000000.0      Action               2.800000e+07  \n",
       "tt0369610     20.709        215000000.0      Action               2.150000e+08  \n",
       "\n",
       "[5 rows x 24 columns]"
      ]
     },
     "execution_count": 197,
     "metadata": {},
     "output_type": "execute_result"
    }
   ],
   "source": [
    "#load final df\n",
    "df = pd.read_csv('final_df.csv', index_col=0)\n",
    "df.head()"
   ]
  },
  {
   "cell_type": "code",
   "execution_count": 199,
   "metadata": {},
   "outputs": [
    {
     "data": {
      "text/plain": [
       "Index(['primary_title', 'original_title', 'start_year', 'runtime_minutes',\n",
       "       'genres', 'imdb_rating', 'imdb_votes', 'bom_title', 'studio',\n",
       "       'domestic_gross', 'foreign_gross', 'year_only', 'total_gross',\n",
       "       'primary_name', 'primary_profession', 'person_id', 'join_title',\n",
       "       'join_year', 'tmdb_rating', 'tmdb_votes', 'popularity',\n",
       "       'production_budget', 'main_genre', 'production_budget_imputed'],\n",
       "      dtype='object')"
      ]
     },
     "execution_count": 199,
     "metadata": {},
     "output_type": "execute_result"
    }
   ],
   "source": [
    "df.columns"
   ]
  },
  {
   "cell_type": "code",
   "execution_count": 200,
   "metadata": {},
   "outputs": [
    {
     "data": {
      "text/plain": [
       "(1927, 24)"
      ]
     },
     "execution_count": 200,
     "metadata": {},
     "output_type": "execute_result"
    }
   ],
   "source": [
    "df.shape"
   ]
  },
  {
   "cell_type": "markdown",
   "metadata": {},
   "source": [
    "##  Optimal production budget range"
   ]
  },
  {
   "cell_type": "markdown",
   "metadata": {},
   "source": [
    "We aimed to identify the optimal production budget range that maximizes ROI (Return on Investment) for movies. This analysis helps in understanding how much to invest to achieve the best balance between risk and reward.\n",
    "\n",
    "Methodology\n",
    "\n",
    "1 Data Preparation: We selected the production_budget_imputed and ROI columns, removing any rows with missing values.\n",
    "\n",
    "2 Feature Engineering: We log-transformed the production budgets to make them smaller and more suitable for linear regression.\n",
    "\n",
    "3 Model Training: We trained a simple linear regression model to predict ROI based on the log-transformed production budget.\n",
    "\n",
    "4 Evaluation: We evaluated the model's performance using the Mean Absolute Error (MAE) on the test set.\n",
    "\n",
    "5 Budget Prediction: We used the model to predict the production budget that achieves a target ROI of 1 (100%)."
   ]
  },
  {
   "cell_type": "code",
   "execution_count": 201,
   "metadata": {},
   "outputs": [],
   "source": [
    "# Calculate ROI\n",
    "df['ROI'] = (df['total_gross'] - df['production_budget_imputed']) / df['production_budget_imputed']"
   ]
  },
  {
   "cell_type": "code",
   "execution_count": 202,
   "metadata": {},
   "outputs": [],
   "source": [
    "# picking only the rows that do not have null values\n",
    "df = df[df[['production_budget_imputed', 'ROI']].notnull().all(axis=1)]"
   ]
  },
  {
   "cell_type": "code",
   "execution_count": 203,
   "metadata": {
    "code_folding": []
   },
   "outputs": [],
   "source": [
    "# Splitting into test(20%) and train set(80%)\n",
    "\n",
    "X = df['production_budget_imputed']\n",
    "y = df[\"ROI\"]\n",
    "\n",
    "X_train, X_test, y_train, y_test = train_test_split(\n",
    "        X, y,\n",
    "        test_size=0.20,      \n",
    "        random_state=42)    "
   ]
  },
  {
   "cell_type": "code",
   "execution_count": 204,
   "metadata": {},
   "outputs": [],
   "source": [
    "# future engineering\n",
    "# Budget numbers are huge \n",
    "# so we make them smaller and friendlier for the straight line.\n",
    "df['log_budget'] = np.log(df['production_budget_imputed'])\n"
   ]
  },
  {
   "cell_type": "code",
   "execution_count": 205,
   "metadata": {},
   "outputs": [
    {
     "name": "stdout",
     "output_type": "stream",
     "text": [
      "Slope m: -0.11046188603550043\n",
      "Intercept b: 4.338627519065932\n"
     ]
    }
   ],
   "source": [
    "# training a simple model\n",
    "\n",
    "\n",
    "X_train_log = np.log(X_train).values.reshape(-1, 1)\n",
    "\n",
    "y_train_vals = y_train       \n",
    "\n",
    "# Fitting the linear model\n",
    "model = LinearRegression()\n",
    "model.fit(X_train_log, y_train_vals)\n",
    "\n",
    "#  Results\n",
    "print(\"Slope m:\", model.coef_[0])\n",
    "print(\"Intercept b:\", model.intercept_)"
   ]
  },
  {
   "cell_type": "code",
   "execution_count": 206,
   "metadata": {},
   "outputs": [
    {
     "name": "stdout",
     "output_type": "stream",
     "text": [
      "MAE: 2.52009387947105\n"
     ]
    }
   ],
   "source": [
    "# Mean Absolute Error (MAE)\n",
    "# average distance between predicted and actual ROI on the test rows.\n",
    "predictions = model.predict(X_train_log)\n",
    "mae = np.mean(np.abs(predictions - y_train_vals))\n",
    "print(\"MAE:\", mae)"
   ]
  },
  {
   "cell_type": "markdown",
   "metadata": {},
   "source": [
    "2.52 indicates the average error in predicting ROI on unseen data."
   ]
  },
  {
   "cell_type": "code",
   "execution_count": 207,
   "metadata": {},
   "outputs": [
    {
     "data": {
      "text/plain": [
       "13372864509401.744"
      ]
     },
     "execution_count": 207,
     "metadata": {},
     "output_type": "execute_result"
    }
   ],
   "source": [
    "#  using the model to predict the budget that gives any ROI target you like\n",
    "#  assuming a desired ROI of 1 (100 % profit):\n",
    "b = 4.338627519065932\n",
    "m = -0.11046188603550043\n",
    "\n",
    "log_budget = (1.0 - b) / m\n",
    "budget = np.exp(log_budget)\n",
    "budget"
   ]
  },
  {
   "cell_type": "markdown",
   "metadata": {},
   "source": [
    "*Observation:*\n",
    "\n",
    "The analysis suggests that there is a negative correlation between the log-transformed production budget and ROI. The optimal production budget to achieve an ROI of 1 is approximately 1337.29 million. This insight guides in making more informed decisions about budget allocation to maximize returns."
   ]
  },
  {
   "cell_type": "markdown",
   "metadata": {},
   "source": [
    "## Critical reception vs Commercial Sucess"
   ]
  },
  {
   "cell_type": "markdown",
   "metadata": {},
   "source": [
    "How does critical reception (tmdb_rating) correlate with commercial success?\n",
    "\n",
    "We aimed to understand how critical reception, as measured by TMDb ratings, correlates with commercial success, represented by ROI.\n",
    "We evaluated the model's performance using the R² metric on unseen data."
   ]
  },
  {
   "cell_type": "code",
   "execution_count": 208,
   "metadata": {},
   "outputs": [],
   "source": [
    "# Keeping only the two columns we need and dropping any missing rows\n",
    "df_corr = df[['tmdb_rating', 'ROI']].dropna()"
   ]
  },
  {
   "cell_type": "code",
   "execution_count": 209,
   "metadata": {},
   "outputs": [],
   "source": [
    "# Splitting into test(20%) and train set(80%)\n",
    "X = df_corr[['tmdb_rating']]  \n",
    "y = df_corr['ROI']            \n",
    "\n",
    "X_train, X_test, y_train, y_test = train_test_split(\n",
    "    X, y, test_size=0.20, random_state=42)"
   ]
  },
  {
   "cell_type": "code",
   "execution_count": 210,
   "metadata": {},
   "outputs": [
    {
     "data": {
      "text/plain": [
       "LinearRegression()"
      ]
     },
     "execution_count": 210,
     "metadata": {},
     "output_type": "execute_result"
    }
   ],
   "source": [
    "#train the straight-line model\n",
    "model = LinearRegression()\n",
    "model.fit(X_train, y_train)"
   ]
  },
  {
   "cell_type": "code",
   "execution_count": 211,
   "metadata": {},
   "outputs": [
    {
     "name": "stdout",
     "output_type": "stream",
     "text": [
      "Slope (m): -0.396  (ROI change per 1-point tmdb_rating)\n",
      "Intercept (b): 5.468\n"
     ]
    }
   ],
   "source": [
    "# inspect the line\n",
    "m = model.coef_[0]\n",
    "b = model.intercept_\n",
    "print(f\"Slope (m): {m:.3f}  (ROI change per 1-point tmdb_rating)\")\n",
    "print(f\"Intercept (b): {b:.3f}\")"
   ]
  },
  {
   "cell_type": "code",
   "execution_count": 212,
   "metadata": {},
   "outputs": [
    {
     "name": "stdout",
     "output_type": "stream",
     "text": [
      "R^2 on unseen data: -0.113\n"
     ]
    }
   ],
   "source": [
    "# model performance check (R2)\n",
    "\n",
    "r2 = r2_score(y_test, model.predict(X_test))\n",
    "print(f\"R^2 on unseen data: {r2:.3f}\")"
   ]
  },
  {
   "cell_type": "markdown",
   "metadata": {},
   "source": [
    "*Observation:*\n",
    "\n",
    "-0.113 indicates that the model explains about 11.3% of the variance in ROI, suggesting that TMDb ratings alone do not strongly predict ROI."
   ]
  },
  {
   "cell_type": "markdown",
   "metadata": {},
   "source": [
    "## Domestic vs international revenue split trend?"
   ]
  },
  {
   "cell_type": "markdown",
   "metadata": {},
   "source": [
    "Understanding the distribution of revenue between domestic and international markets is crucial for strategic planning in the film industry. This analysis aims to identify trends in the revenue split over time, which can inform marketing strategies and release decisions.\n",
    "\n",
    "Objective: \n",
    "\n",
    "To determine how the revenue from domestic and international markets has changed over time."
   ]
  },
  {
   "cell_type": "code",
   "execution_count": 223,
   "metadata": {},
   "outputs": [],
   "source": [
    "#we keep movies with both domestic and foreign revenue\n",
    "df_pred = df[['domestic_gross', 'total_gross', 'foreign_gross']].dropna()"
   ]
  },
  {
   "cell_type": "code",
   "execution_count": 224,
   "metadata": {},
   "outputs": [],
   "source": [
    "# Split the data into training and testing sets(80% & 20%)\n",
    "\n",
    "df = df[df['domestic_gross'] > 0]\n",
    "\n",
    "\n",
    "X = df_pred['domestic_gross']\n",
    "y = df_pred['foreign_gross']"
   ]
  },
  {
   "cell_type": "code",
   "execution_count": 225,
   "metadata": {},
   "outputs": [],
   "source": [
    "# Split into training and testing sets (80/20)\n",
    "\n",
    "\n",
    "X_train, X_test, y_train, y_test = train_test_split(\n",
    "    X,  \n",
    "    y,\n",
    "    test_size=0.20,\n",
    "    random_state=42\n",
    "\n",
    ")"
   ]
  },
  {
   "cell_type": "code",
   "execution_count": 226,
   "metadata": {},
   "outputs": [],
   "source": [
    "#future engineering \n",
    "#to make patterns easier amd reduce the scale of large values \n",
    "\n",
    "df['log_domestic'] = np.log(df['domestic_gross'])\n"
   ]
  },
  {
   "cell_type": "code",
   "execution_count": 228,
   "metadata": {},
   "outputs": [
    {
     "name": "stdout",
     "output_type": "stream",
     "text": [
      "Slope m: 19789492.48079286\n",
      "Intercept b: -236777925.9707373\n"
     ]
    }
   ],
   "source": [
    "# training a simple model\n",
    "\n",
    "X_train_log = np.log1p(np.maximum(X_train, 0)).values.reshape(-1, 1)\n",
    "\n",
    "#linear regression\n",
    "model = LinearRegression()\n",
    "model.fit(X_train_log, y_train)\n",
    "\n",
    "print(\"Slope m:\", model.coef_[0])\n",
    "print(\"Intercept b:\", model.intercept_)"
   ]
  },
  {
   "cell_type": "code",
   "execution_count": 229,
   "metadata": {},
   "outputs": [
    {
     "name": "stdout",
     "output_type": "stream",
     "text": [
      "MAE: 74588989.36412981\n"
     ]
    }
   ],
   "source": [
    "#Mean Absolute Error(MAE)\n",
    "#SHOW HOW FAR PREDICTIONS ARE FAR AWAY FROM THE ACTUAL FOREIGN REVENUE\n",
    "predictions = model.predict(X_train_log)\n",
    "mae = np.mean(np.abs(predictions - y_train))\n",
    "print(\"MAE:\", mae)"
   ]
  },
  {
   "cell_type": "code",
   "execution_count": 230,
   "metadata": {},
   "outputs": [
    {
     "name": "stdout",
     "output_type": "stream",
     "text": [
      "Predicted Foreign Revenue: 82191006.71860251\n"
     ]
    }
   ],
   "source": [
    "#USING THE MODEL TO PREDICT A 10 MILLION DOMESTICALLY\n",
    "log_dom = np.log(10_000_000)\n",
    "predicted_foreign = model.predict([[log_dom]])\n",
    "print(\"Predicted Foreign Revenue:\", predicted_foreign[0])"
   ]
  },
  {
   "cell_type": "markdown",
   "metadata": {},
   "source": [
    "## Genre with the best risk-adjusted returns"
   ]
  },
  {
   "cell_type": "markdown",
   "metadata": {},
   "source": [
    "We aimed to identify which movie genres provide the best balance between profit (ROI) and risk (volatility of ROI). This analysis helps in understanding which genres are not only profitable but also relatively stable in their returns.\n",
    "\n",
    "The Sharpe ratio indicates how much return we are receiving for the extra risk we're taking. A higher Sharpe ratio means we're getting a better return for the risk we're undertaking."
   ]
  },
  {
   "cell_type": "code",
   "execution_count": 213,
   "metadata": {},
   "outputs": [],
   "source": [
    "# Keeping only the two columns we need and dropping any missing rows\n",
    "df_risk_adj = df[['main_genre', 'ROI']].dropna()"
   ]
  },
  {
   "cell_type": "code",
   "execution_count": 214,
   "metadata": {},
   "outputs": [],
   "source": [
    "# Group by genre and \n",
    "# calculate the average ROI and the standard deviation of ROI.\n",
    "genre_stats = df_risk_adj.groupby('main_genre').agg(\n",
    "    mean_roi=('ROI', 'mean'),\n",
    "    std_roi=('ROI', 'std'),\n",
    "    count=('ROI', 'count')\n",
    ").reset_index()\n",
    "genre_stats['sharpe_ratio'] = genre_stats['mean_roi'] / genre_stats['std_roi']"
   ]
  },
  {
   "cell_type": "code",
   "execution_count": 215,
   "metadata": {},
   "outputs": [],
   "source": [
    "#  Rank genres by Sharpe ratio\n",
    "genre_stats = genre_stats.sort_values('sharpe_ratio', ascending=False)\n"
   ]
  },
  {
   "cell_type": "code",
   "execution_count": 216,
   "metadata": {},
   "outputs": [
    {
     "name": "stdout",
     "output_type": "stream",
     "text": [
      "     main_genre  sharpe_ratio\n",
      "12      Romance  9.858074e+15\n",
      "11      Mystery  4.830803e+00\n",
      "13     Thriller  2.533674e+00\n",
      "6   Documentary  2.497172e+00\n",
      "2     Animation  2.299194e+00\n",
      "1     Adventure  9.554399e-01\n",
      "8       Fantasy  8.370608e-01\n",
      "4        Comedy  8.015916e-01\n",
      "0        Action  7.630603e-01\n",
      "5         Crime  5.910273e-01\n"
     ]
    }
   ],
   "source": [
    "# Display top genres\n",
    "print(genre_stats[['main_genre', 'sharpe_ratio']].head(10))"
   ]
  },
  {
   "cell_type": "markdown",
   "metadata": {},
   "source": [
    "*Observation:* \n",
    "\n",
    "The analysis suggests that genres like Romance and Mystery provide the best risk-adjusted returns. Production companies might consider focusing on these genres for a balanced portfolio that maximizes returns while managing risk."
   ]
  },
  {
   "cell_type": "markdown",
   "metadata": {},
   "source": [
    "## Popularity vs box office performance"
   ]
  },
  {
   "cell_type": "markdown",
   "metadata": {},
   "source": [
    "How does movie popularity correlate with actual box office performance?\n",
    "\n",
    "We want to determine if there's a relationship between a movie's popularity (before release) and its commercial success at the box office."
   ]
  },
  {
   "cell_type": "code",
   "execution_count": 217,
   "metadata": {},
   "outputs": [],
   "source": [
    "# Clean the data\n",
    "df_pop = df[['popularity', 'ROI']].dropna()"
   ]
  },
  {
   "cell_type": "code",
   "execution_count": 218,
   "metadata": {},
   "outputs": [],
   "source": [
    "# Split into Training and Test Sets\n",
    "X = df_pop['popularity'].values.reshape(-1, 1)  \n",
    "y = df_pop['ROI'].values \n",
    "\n",
    "X_train, X_test, y_train, y_test = train_test_split(X, y, test_size=0.20, random_state=42)"
   ]
  },
  {
   "cell_type": "code",
   "execution_count": 219,
   "metadata": {},
   "outputs": [
    {
     "data": {
      "text/plain": [
       "LinearRegression()"
      ]
     },
     "execution_count": 219,
     "metadata": {},
     "output_type": "execute_result"
    }
   ],
   "source": [
    "# train the model\n",
    "model = LinearRegression()\n",
    "model.fit(X_train, y_train)"
   ]
  },
  {
   "cell_type": "code",
   "execution_count": 220,
   "metadata": {},
   "outputs": [
    {
     "name": "stdout",
     "output_type": "stream",
     "text": [
      "Slope (m): 0.060 (ROI change per unit increase in popularity)\n",
      "Intercept (b): 2.216\n"
     ]
    }
   ],
   "source": [
    "#  slope and y-intercept of the model\n",
    "m = model.coef_[0]\n",
    "b = model.intercept_\n",
    "print(f\"Slope (m): {m:.3f} (ROI change per unit increase in popularity)\")\n",
    "print(f\"Intercept (b): {b:.3f}\")"
   ]
  },
  {
   "cell_type": "code",
   "execution_count": 221,
   "metadata": {},
   "outputs": [
    {
     "name": "stdout",
     "output_type": "stream",
     "text": [
      "R² on unseen data: -0.033\n"
     ]
    }
   ],
   "source": [
    "# evaluating the model using r2\n",
    "y_pred = model.predict(X_test)\n",
    "r2 = r2_score(y_test, y_pred)\n",
    "print(f\"R² on unseen data: {r2:.3f}\")"
   ]
  },
  {
   "cell_type": "markdown",
   "metadata": {},
   "source": [
    "-0.033 indicates that popularity explains about 3.3% of the variance in ROI."
   ]
  },
  {
   "cell_type": "code",
   "execution_count": 222,
   "metadata": {},
   "outputs": [
    {
     "data": {
      "image/png": "[encoded data removed]",
      "text/plain": [
       "<Figure size 720x432 with 1 Axes>"
      ]
     },
     "metadata": {
      "needs_background": "light"
     },
     "output_type": "display_data"
    }
   ],
   "source": [
    "# visualizing the results\n",
    "\n",
    "plt.figure(figsize=(10, 6))\n",
    "plt.scatter(X_test, y_test, color='blue', label='Actual ROI')\n",
    "plt.plot(X_test, y_pred, color='red', linewidth=2, label='Predicted ROI')\n",
    "plt.title('Popularity vs ROI')\n",
    "plt.xlabel('Popularity')\n",
    "plt.ylabel('ROI')\n",
    "plt.legend()\n",
    "plt.show()"
   ]
  },
  {
   "cell_type": "markdown",
   "metadata": {},
   "source": [
    "*Observations:* \n",
    "\n",
    "The analysis suggests a very weak positive correlation between popularity and ROI. The R² score of -0.033 indicates that popularity does not significantly affect box office performance. This insight suggests that other factors might play a more significant role in determining commercial success."
   ]
  }
 ],
 "metadata": {
  "kernelspec": {
   "display_name": "learn-env",
   "language": "python",
   "name": "learn-env"
  },
  "language_info": {
   "codemirror_mode": {
    "name": "ipython",
    "version": 3
   },
   "file_extension": ".py",
   "mimetype": "text/x-python",
   "name": "python",
   "nbconvert_exporter": "python",
   "pygments_lexer": "ipython3",
   "version": "3.8.5"
  }
 },
 "nbformat": 4,
 "nbformat_minor": 4
}
