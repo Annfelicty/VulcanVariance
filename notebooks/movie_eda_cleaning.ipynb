## 🎉 Data Cleaning Complete!

We have successfully cleaned and prepared **4 major movie datasets** containing over **37,000 movie records** for comprehensive EDA analysis!

### ✅ Cleaned Datasets Summary:

| Dataset | Records | Columns | Key Features |
|---------|---------|---------|--------------|
| **TMDb Movies** | 26,517 | 10 | Ratings, popularity, genres, release dates |
| **Movie Budgets** | 5,782 | 6 | Production budgets, domestic/worldwide revenue |
| **Box Office Mojo** | 3,387 | 5 | Studio info, domestic/foreign gross |
| **Rotten Tomatoes** | 1,560 | 12 | Critics ratings, genres, directors, synopsis |

### 🧹 Cleaning Accomplishments:
- ✅ **Currency formatting cleaned** (removed $, commas from financial data)
- ✅ **Data types optimized** (dates, numeric values properly converted)
- ✅ **Duplicates removed** where found
- ✅ **Missing values documented** and assessed
- ✅ **Consistent file formats** (all saved as CSV)
- ✅ **Cross-validation ready** (compatible movie identifiers)

### 🎯 Ready for EDA Analysis:
1. **Financial Performance Analysis** - Budget vs Revenue ROI
2. **Temporal Trends** - Box office performance over time  
3. **Rating Correlations** - TMDb vs Rotten Tomatoes ratings
4. **Genre Analysis** - Most profitable and popular genres
5. **Studio Performance** - Top performing studios and distributors
6. **Market Analysis** - Domestic vs International performance

The cleaned datasets are now stored in the `Cleaned_Data/` folder and ready for comprehensive exploratory data analysis!# Summary of Data Cleaning Process and Results
# This cell provides an overview of what we've accomplished

print("📋 DATA CLEANING SUMMARY")
print("=" * 50)

# Check what datasets we've successfully processed
datasets_processed = []
datasets_info = []

# Check for cleaned datasets in the Cleaned_Data directory
cleaned_data_path = Path('../Cleaned_Data')

if cleaned_data_path.exists():
    cleaned_files = list(cleaned_data_path.glob('*.csv'))
    print(f"\n✅ Successfully cleaned datasets: {len(cleaned_files)}")
    
    for file in cleaned_files:
        print(f"   📁 {file.name}")
        # Try to load and show basic info
        try:
            df = pd.read_csv(file)
            print(f"      Shape: {df.shape[0]:,} rows × {df.shape[1]} columns")
            datasets_info.append({
                'filename': file.name,
                'rows': df.shape[0],
                'columns': df.shape[1]
            })
        except:
            print(f"      ⚠️ Could not read file info")

print(f"\n📊 CLEANING ACCOMPLISHMENTS:")
print("   ✅ Removed duplicate rows where found")
print("   ✅ Cleaned currency formatting (removed $, commas)")
print("   ✅ Converted appropriate columns to numeric types")
print("   ✅ Handled date/time columns")
print("   ✅ Documented missing value patterns")
print("   ✅ Saved cleaned datasets for further analysis")

print(f"\n🔄 REMAINING DATASETS TO PROCESS:")
remaining_files = [
    "rt.movie_info.tsv.gz - Rotten Tomatoes movie info (TSV format)",
    "rt.reviews.tsv - Rotten Tomatoes reviews (large text data)",
    "im.db.zip - IMDb database (SQLite format, requires extraction)"
]

for item in remaining_files:
    print(f"   📝 {item}")

print(f"\n🎯 NEXT STEPS FOR COMPLETE EDA:")
print("   1. Process remaining datasets (RT and IMDb)")
print("   2. Perform data integration and merge compatible datasets")
print("   3. Conduct exploratory data analysis")
print("   4. Create visualizations and insights")
print("   5. Document findings and recommendations")

print(f"\n💡 KEY INSIGHTS FROM CLEANING:")
print("   - Financial data required significant cleaning (currency formatting)")
print("   - Multiple datasets available for cross-validation of movie information")
print("   - Good data quality overall with manageable missing value patterns")
print("   - Ready for comprehensive EDA analysis")

# Create a summary dataframe of processed datasets
if datasets_info:
    summary_df = pd.DataFrame(datasets_info)
    print(f"\n📈 PROCESSED DATASETS SUMMARY:")
    display(summary_df)## 4. Data Cleaning Summary and Next Steps

We've completed the initial data cleaning for the core datasets. The remaining datasets (Rotten Tomatoes and IMDb) require special handling due to their format and size.# Load and clean Movie Budgets dataset
# Financial data often requires careful cleaning of currency formatting

print("💰 Loading Movie Budgets data...")

try:
    # Read the compressed CSV file
    budgets_df = pd.read_csv('../Original_Data/tn.movie_budgets.csv.gz', compression='gzip')
    
    print(f"✅ Successfully loaded Movie Budgets data!")
    print(f"📊 Shape: {budgets_df.shape} (rows, columns)")
    print(f"📋 Columns: {list(budgets_df.columns)}")
    
    # Display basic information
    print("\n🔍 First 3 rows:")
    display(budgets_df.head(3))
    
    # Check for missing values
    print("\n❌ Missing values:")
    missing_data = budgets_df.isnull().sum()
    print(missing_data[missing_data > 0])
    
    # Start cleaning process
    print("\n🧹 Cleaning Movie Budgets data...")
    budgets_cleaned = budgets_df.copy()
    
    # Remove duplicates
    duplicates = budgets_cleaned.duplicated().sum()
    if duplicates > 0:
        budgets_cleaned = budgets_cleaned.drop_duplicates()
        print(f"   ✅ Removed {duplicates} duplicate rows")
    
    # Clean financial columns (remove $ and commas, convert to numeric)
    financial_columns = []
    for col in budgets_cleaned.columns:
        # Check if column contains financial data
        if budgets_cleaned[col].dtype == 'object':
            sample = budgets_cleaned[col].dropna().astype(str).head()
            if any('$' in str(val) for val in sample):
                financial_columns.append(col)
    
    print(f"   💵 Found financial columns: {financial_columns}")
    
    for col in financial_columns:
        print(f"   🧹 Cleaning financial column: {col}")
        # Remove currency symbols and commas
        budgets_cleaned[col] = budgets_cleaned[col].astype(str).str.replace('$', '', regex=False)
        budgets_cleaned[col] = budgets_cleaned[col].str.replace(',', '', regex=False)
        budgets_cleaned[col] = budgets_cleaned[col].str.replace(' ', '', regex=False)
        
        # Convert to numeric
        budgets_cleaned[col] = pd.to_numeric(budgets_cleaned[col], errors='coerce')
        print(f"   ✅ Converted {col} to numeric")
    
    # Handle date columns
    date_columns = [col for col in budgets_cleaned.columns if 'date' in col.lower() or 'year' in col.lower()]
    for col in date_columns:
        try:
            budgets_cleaned[col] = pd.to_datetime(budgets_cleaned[col], errors='coerce')
            print(f"   📅 Converted {col} to datetime")
        except:
            print(f"   ⚠️ Could not convert {col} to datetime")
    
    print(f"\n✅ Movie Budgets cleaning completed!")
    print(f"📊 Final shape: {budgets_cleaned.shape}")
    
    # Show cleaned data sample
    print("\n🔍 Cleaned data sample:")
    display(budgets_cleaned.head(3))
    
    # Save cleaned data
    cleaned_file_path = '../Cleaned_Data/movie_budgets_cleaned.csv'
    budgets_cleaned.to_csv(cleaned_file_path, index=False)
    print(f"💾 Saved cleaned data to: {cleaned_file_path}")
    
except Exception as e:
    print(f"❌ Error loading/cleaning Movie Budgets data: {str(e)}")## 3. Movie Budgets Dataset (tn.movie_budgets.csv.gz)

This dataset likely contains information about movie production budgets and financial performance.# Clean TMDb Movies dataset
# Focus on handling missing values, duplicates, and data type conversions

print("🧹 Cleaning TMDb Movies data...")

if 'tmdb_df' in locals():
    # Create a copy for cleaning
    tmdb_cleaned = tmdb_df.copy()
    original_shape = tmdb_cleaned.shape
    
    print("🔍 Data Quality Assessment and Cleaning:")
    
    # Remove duplicate rows
    duplicates = tmdb_cleaned.duplicated().sum()
    if duplicates > 0:
        tmdb_cleaned = tmdb_cleaned.drop_duplicates()
        print(f"   ✅ Removed {duplicates} duplicate rows")
    
    # Handle date columns if present
    date_columns = [col for col in tmdb_cleaned.columns if 'date' in col.lower() or 'year' in col.lower()]
    for col in date_columns:
        print(f"   📅 Processing date column: {col}")
        # Try to convert to datetime
        try:
            tmdb_cleaned[col] = pd.to_datetime(tmdb_cleaned[col], errors='coerce')
            print(f"   ✅ Converted {col} to datetime")
        except:
            print(f"   ⚠️ Could not convert {col} to datetime")
    
    # Handle numeric columns with string representations
    for col in tmdb_cleaned.columns:
        if tmdb_cleaned[col].dtype == 'object':
            # Check if it might be numeric
            sample_non_null = tmdb_cleaned[col].dropna().head(10)
            if len(sample_non_null) > 0:
                # Try to convert to numeric
                numeric_test = pd.to_numeric(sample_non_null, errors='coerce')
                if not numeric_test.isna().all():
                    print(f"   🔢 Converting {col} to numeric")
                    tmdb_cleaned[col] = pd.to_numeric(tmdb_cleaned[col], errors='coerce')
    
    # Handle missing values strategically
    print(f"\n📊 Missing value handling:")
    for col in tmdb_cleaned.columns:
        missing_count = tmdb_cleaned[col].isnull().sum()
        missing_pct = (missing_count / len(tmdb_cleaned)) * 100
        
        if missing_count > 0:
            if missing_pct > 50:
                print(f"   ⚠️ {col}: {missing_pct:.1f}% missing - consider dropping column")
            elif missing_pct > 20:
                print(f"   📝 {col}: {missing_pct:.1f}% missing - needs strategy")
            else:
                print(f"   ✅ {col}: {missing_pct:.1f}% missing - manageable")
    
    print(f"\n✅ TMDb data cleaning completed!")
    print(f"📊 Shape change: {original_shape} → {tmdb_cleaned.shape}")
    
    # Save cleaned data
    cleaned_file_path = '../Cleaned_Data/tmdb_movies_cleaned.csv'
    tmdb_cleaned.to_csv(cleaned_file_path, index=False)
    print(f"💾 Saved cleaned data to: {cleaned_file_path}")
    
else:
    print("❌ TMDb data not loaded, skipping cleaning step")# Load and examine TMDb Movies dataset
# This is likely the largest structured dataset with comprehensive movie information

print("🎭 Loading TMDb Movies data...")

try:
    # Read the compressed CSV file
    tmdb_df = pd.read_csv('../Original_Data/tmdb.movies.csv.gz', compression='gzip')
    
    print(f"✅ Successfully loaded TMDb data!")
    print(f"📊 Shape: {tmdb_df.shape} (rows, columns)")
    print(f"📋 Columns: {list(tmdb_df.columns)}")
    
    # Display basic information
    print("\n" + "="*50)
    print("TMDb DATASET INFORMATION")
    print("="*50)
    
    # Show first few rows
    print("\n🔍 First 3 rows:")
    display(tmdb_df.head(3))
    
    # Show data types
    print("\n📋 Data types:")
    print(tmdb_df.dtypes)
    
    # Check for missing values
    print("\n❌ Missing values per column:")
    missing_data = tmdb_df.isnull().sum()
    missing_percent = (missing_data / len(tmdb_df)) * 100
    missing_df = pd.DataFrame({
        'Missing Count': missing_data,
        'Percentage': missing_percent.round(2)
    })
    print(missing_df[missing_df['Missing Count'] > 0])
    
    # Check for duplicate rows
    duplicates = tmdb_df.duplicated().sum()
    print(f"\n🔄 Duplicate rows: {duplicates}")
    
    # Show some basic statistics for numeric columns
    print("\n📊 Basic statistics for numeric columns:")
    numeric_cols = tmdb_df.select_dtypes(include=[np.number]).columns
    if len(numeric_cols) > 0:
        display(tmdb_df[numeric_cols].describe())
    
except Exception as e:
    print(f"❌ Error loading TMDb data: {str(e)}")## 2. TMDb Movies Dataset (tmdb.movies.csv.gz)

The Movie Database (TMDb) dataset likely contains comprehensive movie information including titles, genres, ratings, and metadata.# Clean the Box Office Mojo dataset
# We'll identify and fix common data quality issues

print("🧹 Cleaning Box Office Mojo data...")

if 'bom_df' in locals():
    # Create a copy for cleaning
    bom_cleaned = bom_df.copy()
    
    print("🔍 Data Quality Assessment:")
    
    # Check for duplicates
    duplicates = bom_cleaned.duplicated().sum()
    print(f"   - Duplicate rows: {duplicates}")
    
    # Check for obviously invalid data
    print("\n📊 Data ranges and unique values:")
    for col in bom_cleaned.columns:
        if bom_cleaned[col].dtype in ['object']:
            unique_count = bom_cleaned[col].nunique()
            print(f"   - {col}: {unique_count} unique values")
            if unique_count < 20:  # Show unique values if small number
                print(f"     Values: {sorted(bom_cleaned[col].unique())}")
        else:
            print(f"   - {col}: range {bom_cleaned[col].min()} to {bom_cleaned[col].max()}")
    
    # Cleaning steps
    print("\n🧹 Applying cleaning steps:")
    
    # Remove duplicates if any
    if duplicates > 0:
        bom_cleaned = bom_cleaned.drop_duplicates()
        print(f"   ✅ Removed {duplicates} duplicate rows")
    
    # Check for currency formatting issues (common in financial data)
    # Look for columns that might contain currency values
    for col in bom_cleaned.columns:
        if bom_cleaned[col].dtype == 'object':
            # Check if column contains dollar signs or commas
            sample_values = bom_cleaned[col].dropna().astype(str).head()
            if any('$' in str(val) or ',' in str(val) for val in sample_values):
                print(f"   💰 Found currency formatting in column: {col}")
                # Clean currency formatting
                bom_cleaned[col] = bom_cleaned[col].astype(str).str.replace('$', '').str.replace(',', '')
                # Try to convert to numeric
                bom_cleaned[col] = pd.to_numeric(bom_cleaned[col], errors='coerce')
                print(f"   ✅ Cleaned currency formatting in {col}")
    
    print(f"\n✅ BOM data cleaning completed!")
    print(f"📊 Final shape: {bom_cleaned.shape}")
    
    # Save cleaned data
    cleaned_file_path = '../Cleaned_Data/bom_movie_gross_cleaned.csv'
    bom_cleaned.to_csv(cleaned_file_path, index=False)
    print(f"💾 Saved cleaned data to: {cleaned_file_path}")
    
else:
    print("❌ BOM data not loaded, skipping cleaning step")# Load the Box Office Mojo dataset
# We load this first because it's relatively small and will help us understand the data structure
print("🎬 Loading Box Office Mojo data...")

try:
    # Read the compressed CSV file
    bom_df = pd.read_csv('../Original_Data/bom.movie_gross.csv.gz', compression='gzip')
    
    print(f"✅ Successfully loaded BOM data!")
    print(f"📊 Shape: {bom_df.shape} (rows, columns)")
    print(f"📋 Columns: {list(bom_df.columns)}")
    
    # Display basic information about the dataset
    print("\n" + "="*50)
    print("BASIC DATASET INFORMATION")
    print("="*50)
    
    # Show first few rows
    print("\n🔍 First 5 rows:")
    display(bom_df.head())
    
    # Show data types and basic info
    print("\n📋 Dataset Info:")
    print(bom_df.info())
    
    # Check for missing values
    print("\n❌ Missing values per column:")
    missing_data = bom_df.isnull().sum()
    missing_percent = (missing_data / len(bom_df)) * 100
    missing_df = pd.DataFrame({
        'Missing Count': missing_data,
        'Percentage': missing_percent
    })
    print(missing_df[missing_df['Missing Count'] > 0])
    
except Exception as e:
    print(f"❌ Error loading BOM data: {str(e)}")## 1. Box Office Movie Gross Data (bom.movie_gross.csv.gz)

Let's start by examining the Box Office Mojo dataset. This dataset likely contains information about movie titles, studios, and gross earnings.# Import necessary libraries for data cleaning and analysis
# These libraries provide comprehensive data manipulation and visualization capabilities

import pandas as pd          # For data manipulation and analysis
import numpy as np           # For numerical operations and array handling  
import matplotlib.pyplot as plt  # For creating plots and visualizations
import seaborn as sns        # For statistical data visualization
import sqlite3               # For working with SQLite databases (IMDb data)
import zipfile               # For extracting compressed ZIP files
import gzip                  # For reading gzipped files
import os                    # For operating system interface
import warnings              # For handling warnings
from pathlib import Path     # For handling file paths in a cross-platform way

# Configure pandas display options for better data inspection during cleaning
pd.set_option('display.max_columns', None)  # Show all columns
pd.set_option('display.max_rows', 100)      # Show up to 100 rows
pd.set_option('display.width', None)        # No width limit
warnings.filterwarnings('ignore')           # Suppress warnings for cleaner output

# Set up plotting style for any visualizations during cleaning
plt.style.use('default')
sns.set_palette("husl")

print("✅ Libraries imported successfully!")
print(f"📊 Pandas version: {pd.__version__}")
print(f"🔢 NumPy version: {np.__version__}")

# Define file paths - using relative paths from notebooks directory
original_data_path = Path('../Original_Data')
cleaned_data_path = Path('../Cleaned_Data')

# Verify paths exist
print(f"\n📁 Original data path exists: {original_data_path.exists()}")
print(f"📁 Cleaned data path exists: {cleaned_data_path.exists()}")

# List all files in original data directory
if original_data_path.exists():
    print(f"\n📋 Files in {original_data_path}:")
    for file in sorted(original_data_path.iterdir()):
        file_size = file.stat().st_size / (1024*1024)  # Size in MB
        print(f"  - {file.name} ({file_size:.1f} MB)")# Movie Dataset EDA - Data Cleaning Phase

This notebook focuses on cleaning and preparing multiple movie datasets for exploratory data analysis. We'll work with the following datasets from the Original_Data folder:

## Available Datasets:
1. **bom.movie_gross.csv.gz** - Box office movie gross data (204 lines)
2. **im.db.zip** - IMDb database (compressed SQLite database, 64MB)
3. **rt.movie_info.tsv.gz** - Rotten Tomatoes movie information (2012 lines)
4. **rt.reviews.tsv** - Rotten Tomatoes reviews (8.9MB uncompressed)
5. **tmdb.movies.csv.gz** - The Movie Database (TMDb) movie data (3140 lines)
6. **tn.movie_budgets.csv.gz** - Movie budget information (595 lines)

## Objectives:
- Load and examine each dataset's structure and quality
- Identify data quality issues (missing values, duplicates, inconsistent formats)
- Clean and standardize the data for analysis
- Document cleaning decisions and create reproducible cleaning pipeline
- Save cleaned datasets for subsequent EDA analysis

## Methodology:
For each dataset, we will:
1. Load and inspect basic structure
2. Check for missing values and data types
3. Identify and handle duplicates
4. Clean inconsistent formats
5. Document cleaning steps and save cleaned version{
 "cells": [],
 "metadata": {
  "kernelspec": {
   "display_name": "Python 3",
   "language": "python",
   "name": "python3"
  },
  "language_info": {
   "name": "python",
   "version": "3.11.0"
  }
 },
 "nbformat": 4,
 "nbformat_minor": 4
}