{
 "cells": [
  {
   "cell_type": "markdown",
   "id": "da49c800",
   "metadata": {},
   "source": [
    "# Data CLEANING RT.REVIEWS"
   ]
  },
  {
   "cell_type": "markdown",
   "id": "dad68b1e",
   "metadata": {},
   "source": [
    "## 1.1 Data Overview"
   ]
  },
  {
   "cell_type": "markdown",
   "id": "64f2020c",
   "metadata": {},
   "source": [
    "The dataset **rt.reviews.tsv** contains movie review data collected from Rotten Tomatoes. It includes metadata such as reviewer information, review content, ratings, freshness labels, publisher names, and publication dates."
   ]
  },
  {
   "cell_type": "markdown",
   "id": "c7552d77",
   "metadata": {},
   "source": [
    "### 1.2: Data Description"
   ]
  },
  {
   "cell_type": "markdown",
   "id": "e6af14f5",
   "metadata": {},
   "source": [
    "#### 1.2.1: Importing the dataset"
   ]
  },
  {
   "cell_type": "code",
   "execution_count": 1,
   "id": "acfd3992",
   "metadata": {},
   "outputs": [],
   "source": [
    "#Importing the required libraries\n",
    "import pandas as pd\n",
    "import numpy as np\n",
    "import matplotlib.pyplot as plt\n",
    "import seaborn as sns\n",
    "%matplotlib inline"
   ]
  },
  {
   "cell_type": "code",
   "execution_count": 2,
   "id": "c1d8d3d2",
   "metadata": {},
   "outputs": [
    {
     "data": {
      "text/html": [
       "<div>\n",
       "<style scoped>\n",
       "    .dataframe tbody tr th:only-of-type {\n",
       "        vertical-align: middle;\n",
       "    }\n",
       "\n",
       "    .dataframe tbody tr th {\n",
       "        vertical-align: top;\n",
       "    }\n",
       "\n",
       "    .dataframe thead th {\n",
       "        text-align: right;\n",
       "    }\n",
       "</style>\n",
       "<table border=\"1\" class=\"dataframe\">\n",
       "  <thead>\n",
       "    <tr style=\"text-align: right;\">\n",
       "      <th></th>\n",
       "      <th>id</th>\n",
       "      <th>review</th>\n",
       "      <th>rating</th>\n",
       "      <th>fresh</th>\n",
       "      <th>critic</th>\n",
       "      <th>top_critic</th>\n",
       "      <th>publisher</th>\n",
       "      <th>date</th>\n",
       "    </tr>\n",
       "  </thead>\n",
       "  <tbody>\n",
       "    <tr>\n",
       "      <th>0</th>\n",
       "      <td>3</td>\n",
       "      <td>A distinctly gallows take on contemporary fina...</td>\n",
       "      <td>3/5</td>\n",
       "      <td>fresh</td>\n",
       "      <td>PJ Nabarro</td>\n",
       "      <td>0</td>\n",
       "      <td>Patrick Nabarro</td>\n",
       "      <td>November 10, 2018</td>\n",
       "    </tr>\n",
       "    <tr>\n",
       "      <th>1</th>\n",
       "      <td>3</td>\n",
       "      <td>It's an allegory in search of a meaning that n...</td>\n",
       "      <td>NaN</td>\n",
       "      <td>rotten</td>\n",
       "      <td>Annalee Newitz</td>\n",
       "      <td>0</td>\n",
       "      <td>io9.com</td>\n",
       "      <td>May 23, 2018</td>\n",
       "    </tr>\n",
       "    <tr>\n",
       "      <th>2</th>\n",
       "      <td>3</td>\n",
       "      <td>... life lived in a bubble in financial dealin...</td>\n",
       "      <td>NaN</td>\n",
       "      <td>fresh</td>\n",
       "      <td>Sean Axmaker</td>\n",
       "      <td>0</td>\n",
       "      <td>Stream on Demand</td>\n",
       "      <td>January 4, 2018</td>\n",
       "    </tr>\n",
       "    <tr>\n",
       "      <th>3</th>\n",
       "      <td>3</td>\n",
       "      <td>Continuing along a line introduced in last yea...</td>\n",
       "      <td>NaN</td>\n",
       "      <td>fresh</td>\n",
       "      <td>Daniel Kasman</td>\n",
       "      <td>0</td>\n",
       "      <td>MUBI</td>\n",
       "      <td>November 16, 2017</td>\n",
       "    </tr>\n",
       "    <tr>\n",
       "      <th>4</th>\n",
       "      <td>3</td>\n",
       "      <td>... a perverse twist on neorealism...</td>\n",
       "      <td>NaN</td>\n",
       "      <td>fresh</td>\n",
       "      <td>NaN</td>\n",
       "      <td>0</td>\n",
       "      <td>Cinema Scope</td>\n",
       "      <td>October 12, 2017</td>\n",
       "    </tr>\n",
       "  </tbody>\n",
       "</table>\n",
       "</div>"
      ],
      "text/plain": [
       "   id                                             review rating   fresh  \\\n",
       "0   3  A distinctly gallows take on contemporary fina...    3/5   fresh   \n",
       "1   3  It's an allegory in search of a meaning that n...    NaN  rotten   \n",
       "2   3  ... life lived in a bubble in financial dealin...    NaN   fresh   \n",
       "3   3  Continuing along a line introduced in last yea...    NaN   fresh   \n",
       "4   3             ... a perverse twist on neorealism...     NaN   fresh   \n",
       "\n",
       "           critic  top_critic         publisher               date  \n",
       "0      PJ Nabarro           0   Patrick Nabarro  November 10, 2018  \n",
       "1  Annalee Newitz           0           io9.com       May 23, 2018  \n",
       "2    Sean Axmaker           0  Stream on Demand    January 4, 2018  \n",
       "3   Daniel Kasman           0              MUBI  November 16, 2017  \n",
       "4             NaN           0      Cinema Scope   October 12, 2017  "
      ]
     },
     "execution_count": 2,
     "metadata": {},
     "output_type": "execute_result"
    }
   ],
   "source": [
    "#Reading the dataset and checking top five rows\n",
    "df= pd.read_csv(\"../Original_Data/rt.reviews.tsv\", sep='\\t', encoding='ISO-8859-1')\n",
    "df.head()"
   ]
  },
  {
   "cell_type": "markdown",
   "id": "8355c1be",
   "metadata": {},
   "source": [
    "**The file isn't encoded in UTF-8, As a result, trying to load it normally causes an error. The use of encoding=\"ISO-8859-1\" solved the problem.**"
   ]
  },
  {
   "cell_type": "markdown",
   "id": "24b4343f",
   "metadata": {},
   "source": [
    "#### 1.2.2: Basic structure"
   ]
  },
  {
   "cell_type": "code",
   "execution_count": 3,
   "id": "2e27309d",
   "metadata": {},
   "outputs": [
    {
     "data": {
      "text/plain": [
       "(54432, 8)"
      ]
     },
     "execution_count": 3,
     "metadata": {},
     "output_type": "execute_result"
    }
   ],
   "source": [
    "df.shape"
   ]
  },
  {
   "cell_type": "code",
   "execution_count": 4,
   "id": "63809432",
   "metadata": {},
   "outputs": [
    {
     "data": {
      "text/plain": [
       "Index(['id', 'review', 'rating', 'fresh', 'critic', 'top_critic', 'publisher',\n",
       "       'date'],\n",
       "      dtype='object')"
      ]
     },
     "execution_count": 4,
     "metadata": {},
     "output_type": "execute_result"
    }
   ],
   "source": [
    "df.columns"
   ]
  },
  {
   "cell_type": "markdown",
   "id": "8b378e9b",
   "metadata": {},
   "source": [
    "#### 1.2.3: Overview of column types and non-null values"
   ]
  },
  {
   "cell_type": "code",
   "execution_count": 5,
   "id": "7bd0681d",
   "metadata": {},
   "outputs": [
    {
     "name": "stdout",
     "output_type": "stream",
     "text": [
      "<class 'pandas.core.frame.DataFrame'>\n",
      "RangeIndex: 54432 entries, 0 to 54431\n",
      "Data columns (total 8 columns):\n",
      " #   Column      Non-Null Count  Dtype \n",
      "---  ------      --------------  ----- \n",
      " 0   id          54432 non-null  int64 \n",
      " 1   review      48869 non-null  object\n",
      " 2   rating      40915 non-null  object\n",
      " 3   fresh       54432 non-null  object\n",
      " 4   critic      51710 non-null  object\n",
      " 5   top_critic  54432 non-null  int64 \n",
      " 6   publisher   54123 non-null  object\n",
      " 7   date        54432 non-null  object\n",
      "dtypes: int64(2), object(6)\n",
      "memory usage: 3.3+ MB\n"
     ]
    }
   ],
   "source": [
    "df.info()"
   ]
  },
  {
   "cell_type": "markdown",
   "id": "0def18e6",
   "metadata": {},
   "source": [
    "#### 1.2.4: Summary statistics numerical"
   ]
  },
  {
   "cell_type": "code",
   "execution_count": 6,
   "id": "aaa01841",
   "metadata": {},
   "outputs": [
    {
     "data": {
      "text/html": [
       "<div>\n",
       "<style scoped>\n",
       "    .dataframe tbody tr th:only-of-type {\n",
       "        vertical-align: middle;\n",
       "    }\n",
       "\n",
       "    .dataframe tbody tr th {\n",
       "        vertical-align: top;\n",
       "    }\n",
       "\n",
       "    .dataframe thead th {\n",
       "        text-align: right;\n",
       "    }\n",
       "</style>\n",
       "<table border=\"1\" class=\"dataframe\">\n",
       "  <thead>\n",
       "    <tr style=\"text-align: right;\">\n",
       "      <th></th>\n",
       "      <th>count</th>\n",
       "      <th>mean</th>\n",
       "      <th>std</th>\n",
       "      <th>min</th>\n",
       "      <th>25%</th>\n",
       "      <th>50%</th>\n",
       "      <th>75%</th>\n",
       "      <th>max</th>\n",
       "    </tr>\n",
       "  </thead>\n",
       "  <tbody>\n",
       "    <tr>\n",
       "      <th>id</th>\n",
       "      <td>54432.0</td>\n",
       "      <td>1045.706882</td>\n",
       "      <td>586.657046</td>\n",
       "      <td>3.0</td>\n",
       "      <td>542.0</td>\n",
       "      <td>1083.0</td>\n",
       "      <td>1541.0</td>\n",
       "      <td>2000.0</td>\n",
       "    </tr>\n",
       "    <tr>\n",
       "      <th>top_critic</th>\n",
       "      <td>54432.0</td>\n",
       "      <td>0.240594</td>\n",
       "      <td>0.427448</td>\n",
       "      <td>0.0</td>\n",
       "      <td>0.0</td>\n",
       "      <td>0.0</td>\n",
       "      <td>0.0</td>\n",
       "      <td>1.0</td>\n",
       "    </tr>\n",
       "  </tbody>\n",
       "</table>\n",
       "</div>"
      ],
      "text/plain": [
       "              count         mean         std  min    25%     50%     75%  \\\n",
       "id          54432.0  1045.706882  586.657046  3.0  542.0  1083.0  1541.0   \n",
       "top_critic  54432.0     0.240594    0.427448  0.0    0.0     0.0     0.0   \n",
       "\n",
       "               max  \n",
       "id          2000.0  \n",
       "top_critic     1.0  "
      ]
     },
     "execution_count": 6,
     "metadata": {},
     "output_type": "execute_result"
    }
   ],
   "source": [
    "df.describe(include='number').T"
   ]
  },
  {
   "cell_type": "markdown",
   "id": "0af48ad5",
   "metadata": {},
   "source": [
    "#### 1.2.5: Summary statistics categorical"
   ]
  },
  {
   "cell_type": "code",
   "execution_count": 7,
   "id": "cf6267ed",
   "metadata": {},
   "outputs": [
    {
     "data": {
      "text/html": [
       "<div>\n",
       "<style scoped>\n",
       "    .dataframe tbody tr th:only-of-type {\n",
       "        vertical-align: middle;\n",
       "    }\n",
       "\n",
       "    .dataframe tbody tr th {\n",
       "        vertical-align: top;\n",
       "    }\n",
       "\n",
       "    .dataframe thead th {\n",
       "        text-align: right;\n",
       "    }\n",
       "</style>\n",
       "<table border=\"1\" class=\"dataframe\">\n",
       "  <thead>\n",
       "    <tr style=\"text-align: right;\">\n",
       "      <th></th>\n",
       "      <th>count</th>\n",
       "      <th>unique</th>\n",
       "      <th>top</th>\n",
       "      <th>freq</th>\n",
       "    </tr>\n",
       "  </thead>\n",
       "  <tbody>\n",
       "    <tr>\n",
       "      <th>review</th>\n",
       "      <td>48869</td>\n",
       "      <td>48682</td>\n",
       "      <td>Parental Content Review</td>\n",
       "      <td>24</td>\n",
       "    </tr>\n",
       "    <tr>\n",
       "      <th>rating</th>\n",
       "      <td>40915</td>\n",
       "      <td>186</td>\n",
       "      <td>3/5</td>\n",
       "      <td>4327</td>\n",
       "    </tr>\n",
       "    <tr>\n",
       "      <th>fresh</th>\n",
       "      <td>54432</td>\n",
       "      <td>2</td>\n",
       "      <td>fresh</td>\n",
       "      <td>33035</td>\n",
       "    </tr>\n",
       "    <tr>\n",
       "      <th>critic</th>\n",
       "      <td>51710</td>\n",
       "      <td>3496</td>\n",
       "      <td>Emanuel Levy</td>\n",
       "      <td>595</td>\n",
       "    </tr>\n",
       "    <tr>\n",
       "      <th>publisher</th>\n",
       "      <td>54123</td>\n",
       "      <td>1281</td>\n",
       "      <td>eFilmCritic.com</td>\n",
       "      <td>673</td>\n",
       "    </tr>\n",
       "    <tr>\n",
       "      <th>date</th>\n",
       "      <td>54432</td>\n",
       "      <td>5963</td>\n",
       "      <td>January 1, 2000</td>\n",
       "      <td>4303</td>\n",
       "    </tr>\n",
       "  </tbody>\n",
       "</table>\n",
       "</div>"
      ],
      "text/plain": [
       "           count unique                      top   freq\n",
       "review     48869  48682  Parental Content Review     24\n",
       "rating     40915    186                      3/5   4327\n",
       "fresh      54432      2                    fresh  33035\n",
       "critic     51710   3496             Emanuel Levy    595\n",
       "publisher  54123   1281          eFilmCritic.com    673\n",
       "date       54432   5963          January 1, 2000   4303"
      ]
     },
     "execution_count": 7,
     "metadata": {},
     "output_type": "execute_result"
    }
   ],
   "source": [
    "df.describe(include='O').T"
   ]
  },
  {
   "cell_type": "markdown",
   "id": "5de3649e",
   "metadata": {},
   "source": [
    "#### 1.2.6: Missing Values"
   ]
  },
  {
   "cell_type": "code",
   "execution_count": 8,
   "id": "cadf0408",
   "metadata": {},
   "outputs": [
    {
     "data": {
      "text/plain": [
       "id                0\n",
       "review         5563\n",
       "rating        13517\n",
       "fresh             0\n",
       "critic         2722\n",
       "top_critic        0\n",
       "publisher       309\n",
       "date              0\n",
       "dtype: int64"
      ]
     },
     "execution_count": 8,
     "metadata": {},
     "output_type": "execute_result"
    }
   ],
   "source": [
    "#missing values as sum\n",
    "df.isnull().sum()"
   ]
  },
  {
   "cell_type": "code",
   "execution_count": 9,
   "id": "fba1c602",
   "metadata": {},
   "outputs": [
    {
     "data": {
      "text/plain": [
       "id             0.000000\n",
       "review        10.220091\n",
       "rating        24.832819\n",
       "fresh          0.000000\n",
       "critic         5.000735\n",
       "top_critic     0.000000\n",
       "publisher      0.567681\n",
       "date           0.000000\n",
       "dtype: float64"
      ]
     },
     "execution_count": 9,
     "metadata": {},
     "output_type": "execute_result"
    }
   ],
   "source": [
    "#missing values as mean\n",
    "df.isnull().mean()*100"
   ]
  },
  {
   "cell_type": "markdown",
   "id": "dd3a1481",
   "metadata": {},
   "source": [
    "#### 1.2.7: Duplicates"
   ]
  },
  {
   "cell_type": "code",
   "execution_count": 10,
   "id": "5fc1d779",
   "metadata": {},
   "outputs": [
    {
     "data": {
      "text/plain": [
       "9"
      ]
     },
     "execution_count": 10,
     "metadata": {},
     "output_type": "execute_result"
    }
   ],
   "source": [
    "df.duplicated().sum()"
   ]
  },
  {
   "cell_type": "markdown",
   "id": "0902fcd7",
   "metadata": {},
   "source": [
    "### 1.3: Data Summary"
   ]
  },
  {
   "cell_type": "markdown",
   "id": "c53ca82f",
   "metadata": {},
   "source": [
    "The **RT.Reviews** dataset consists of **54,432 records** and **8 attributes**, capturing movie reviews from **Rotten Tomatoes**.\n",
    "\n",
    "#### 🔑 Key Columns:\n",
    "- `review`: The text of the review\n",
    "- `rating`: Rating values (e.g., `\"3/5\"`, `\"B+\"`, etc.)\n",
    "- `fresh`: Indicates sentiment (`fresh` or `rotten`)\n",
    "- `critic`: Name of the reviewer\n",
    "- `publisher`: Source of the review\n",
    "- `date`: Review publication date\n",
    "\n",
    "#### 🧹 Data Completeness:\n",
    "- `rating`: **24.8% missing**\n",
    "- `review`: **10% missing**\n",
    "- `critic`: **5% missing**\n",
    "All other fields (`id`, `fresh`, `top_critic`, `publisher`, `date`) are nearly complete.\n",
    "\n",
    "#### 📌 Additional Insights:\n",
    "- **Unique publishers**: `1,281`\n",
    "- **Unique critics**: `3,496`\n",
    "- **Top rating value**: `\"3/5\"`\n",
    "- **Duplicate records**: `9` (should be removed)\n",
    "- **`top_critic` field**: Binary (0 or 1), with ~**24%** marked as top critics\n",
    "- **`date` field**: Spans multiple years and should be converted to datetime for analysis\n",
    "\n",
    "#### ✅ Next Steps:\n",
    "- Handle missing values\n",
    "- Standardize `rating` formats\n",
    "- Parse `date` into datetime objects\n",
    "- Remove duplicate records\n",
    "- Impute or filter out null values in key fields (`review`, `critic`)"
   ]
  },
  {
   "cell_type": "code",
   "execution_count": 11,
   "id": "fdf280c1",
   "metadata": {},
   "outputs": [
    {
     "name": "stdout",
     "output_type": "stream",
     "text": [
      "id\n",
      "[   3    5    6 ... 1998 1999 2000]\n",
      "review\n",
      "[\"A distinctly gallows take on contemporary financial mores, as one absurdly rich man's limo ride across town for a haircut functions as a state-of-the-nation discourse. \"\n",
      " \"It's an allegory in search of a meaning that never arrives...It's just old-fashioned bad storytelling.\"\n",
      " '... life lived in a bubble in financial dealings and digital communications and brief face-to-face conversations and sexual intermissions in a space shuttle of a limousine creeping through the gridlock of an anonymous New York City.'\n",
      " ...\n",
      " \"Despite Besson's high-profile name being Wasabi's big selling point, there is no doubt that Krawczyk deserves a huge amount of the credit for the film's thoroughly winning tone.\"\n",
      " 'The film lapses too often into sugary sentiment and withholds delivery on the pell-mell pyrotechnics its punchy style promises.'\n",
      " 'The real charm of this trifle is the deadpan comic face of its star, Jean Reno, who resembles Sly Stallone in a hot sake half-sleep.']\n",
      "rating\n",
      "['3/5' nan 'C' '2/5' 'B-' '2/4' 'B' '3/4' '4/5' '4/4' '6/10' '1/4' '8'\n",
      " '2.5/4' '4/10' '2.0/5' '3/10' '7/10' 'A-' '5/5' 'F' '3.5/4' 'D+' '1.5/4'\n",
      " '3.5/5' '8/10' 'B+' '9/10' '2.5/5' '7.5/10' '5.5/10' 'C-' '1.5/5' '1/5'\n",
      " '5/10' 'C+' '0/5' '6' '0.5/4' 'D' '3.1/5' '3/6' '4.5/5' '0/4' '2/10' 'D-'\n",
      " '7' '1/10' '3' 'A+' 'A' '4.0/4' '9.5/10' '2.5' '2.1/2' '6.5/10' '3.7/5'\n",
      " '8.4/10' '9' '1' '7.2/10' '2.2/5' '0.5/10' '5' '0' '2' '4.5' '7.7'\n",
      " '5.0/5' '8.5/10' '3.0/5' '0.5/5' '1.5/10' '3.0/4' '2.3/10' '4.5/10' '4/6'\n",
      " '3.5' '8.6/10' '6/8' '2.0/4' '2.7' '4.2/10' '5.8' '4' '7.1/10' '5/4' 'N'\n",
      " '3.5/10' '5.8/10' 'R' '4.0/5' '0/10' '5.0/10' '5.9/10' '2.4/5' '1.9/5'\n",
      " '4.9' '7.4/10' '1.5' '2.3/4' '8.8/10' '4.0/10' '2.2' '3.8/10' '6.8/10'\n",
      " '7.3' '7.0/10' '3.2' '4.2' '8.4' '5.5/5' '6.3/10' '7.6/10' '8.1/10'\n",
      " '3.6/5' '2/6' '7.7/10' '1.8' '8.9/10' '8.9' '8.2/10' '8.3/10' '2.6/6'\n",
      " '4.1/10' '2.5/10' 'F+' '6.0/10' '1.0/4' '7.9/10' '8.7/10' '4.3/10'\n",
      " '9.6/10' '9.0/10' '4.0' '1.7' '7.9' '6.7' '8.0/10' '9.2/10' '5.2' '5.9'\n",
      " '3.7' '4.7' '6.2/10' '1/6' '8.2' '2.6/5' '3.4' '9.7' '3.3/5' '3.8/5'\n",
      " '1/2' '7.4' '4.8' '1.6/5' '2/2' '1-5' '1.0' '4.3/5' '5/6' '9.2' '2.7/5'\n",
      " '4.9/10' '3.0' '3.1' '7.8/10' 'F-' '2.3/5' '3.0/10' '3/2' '7.8' '4.2/5'\n",
      " '9.0' '7.3/10' '4.4/5' '6.9/10' '0/6' 'T' '6.2' '3.3' '9.8' '8.5' '1.0/5'\n",
      " '4.1' '7.1' '3 1/2']\n",
      "fresh\n",
      "['fresh' 'rotten']\n",
      "critic\n",
      "['PJ Nabarro' 'Annalee Newitz' 'Sean Axmaker' ... 'Raam Tarat'\n",
      " 'Jeremy Conrad' 'Bob Cannon']\n",
      "top_critic\n",
      "[0 1]\n",
      "publisher\n",
      "['Patrick Nabarro' 'io9.com' 'Stream on Demand' ...\n",
      " 'The Big Issue (Australia)' 'The Jacobin' 'OZY']\n",
      "date\n",
      "['November 10, 2018' 'May 23, 2018' 'January 4, 2018' ... 'May 27, 2007'\n",
      " 'August 20, 2006' 'April 1, 1993']\n"
     ]
    }
   ],
   "source": [
    "for col in df.columns:\n",
    "    print(f\"{col}\")\n",
    "    print(df[col].unique())"
   ]
  },
  {
   "cell_type": "markdown",
   "id": "150b03bd",
   "metadata": {},
   "source": [
    "### 1.4 Data Cleaning"
   ]
  },
  {
   "cell_type": "markdown",
   "id": "c27b2ab7",
   "metadata": {},
   "source": [
    "####  Data Cleaning Strategy Summary\n",
    "\n",
    "To ensure data quality and preserve analytical integrity, we apply the following cleaning rules:\n",
    "\n",
    "##### Drop Column\n",
    "- **Column `id`** is just an index with no analytical value -- Decision drop\n",
    "\n",
    "##### Drop Rows:\n",
    "- **Missing `rating`**: As the most critical field representing reviewer opinion, rows without a rating are dropped entirely.\n",
    "- **Less than 5% missing fields**: Any row missing less 5% values is also dropped to reduce imputing and preserve completeness.\n",
    "\n",
    "##### Impute Missing Values:\n",
    "- **Missing `review`**: Rows with missing review text are retained but imputed with the placeholder `\"Unknown\"` to preserve structure for analysis.\n"
   ]
  },
  {
   "cell_type": "code",
   "execution_count": 12,
   "id": "98534a0e",
   "metadata": {},
   "outputs": [],
   "source": [
    "df.drop(columns='id', inplace=True)"
   ]
  },
  {
   "cell_type": "code",
   "execution_count": 13,
   "id": "df5f6f0a",
   "metadata": {},
   "outputs": [
    {
     "name": "stdout",
     "output_type": "stream",
     "text": [
      "Shape Before: (54432, 7)\n",
      "Shape After: (38734, 7)\n"
     ]
    }
   ],
   "source": [
    "#creating a list and dropping the rows with null\n",
    "print(f\"Shape Before: {df.shape}\")\n",
    "columns_to_droprows = ['rating','critic', 'publisher']\n",
    "df.dropna(subset=columns_to_droprows, inplace=True)\n",
    "print(f\"Shape After: {df.shape}\")"
   ]
  },
  {
   "cell_type": "code",
   "execution_count": 14,
   "id": "9616fcea",
   "metadata": {},
   "outputs": [],
   "source": [
    "#Imputing the nan values with UNKNOWN\n",
    "df['review'].fillna('UNKNOWN', inplace=True)"
   ]
  },
  {
   "cell_type": "code",
   "execution_count": 15,
   "id": "b966fcdc",
   "metadata": {},
   "outputs": [
    {
     "data": {
      "text/plain": [
       "review        0\n",
       "rating        0\n",
       "fresh         0\n",
       "critic        0\n",
       "top_critic    0\n",
       "publisher     0\n",
       "date          0\n",
       "dtype: int64"
      ]
     },
     "execution_count": 15,
     "metadata": {},
     "output_type": "execute_result"
    }
   ],
   "source": [
    "#checking null values\n",
    "df.isna().sum()"
   ]
  },
  {
   "cell_type": "code",
   "execution_count": 16,
   "id": "2f832cad",
   "metadata": {
    "scrolled": false
   },
   "outputs": [
    {
     "name": "stdout",
     "output_type": "stream",
     "text": [
      "review:\n",
      "[\"A distinctly gallows take on contemporary financial mores, as one absurdly rich man's limo ride across town for a haircut functions as a state-of-the-nation discourse. \"\n",
      " 'Quickly grows repetitive and tiresome, meandering toward messages that land softly, producing little impact.'\n",
      " 'Cronenberg is not a director to be daunted by a scenario in which the antihero spends most of his time in a stretch limo. Turning it into a film that interests anyone ... is another matter'\n",
      " ...\n",
      " 'Manages to be somewhat well-acted, not badly art-directed and utterly unengaging no matter how hard it tries to be thrilling, touching or, yikes, uproarious.'\n",
      " 'Arguably the best script that Besson has written in years.'\n",
      " \"Dawdles and drags when it should pop; it doesn't even have the virtue of enough mindless violence to break up the tedium of all its generational bonding.\"]\n",
      "rating:\n",
      "['3/5' 'C' '2/5' 'B-' '2/4' 'B' '3/4' '4/5' '4/4' '6/10' '1/4' '8' '2.5/4'\n",
      " '4/10' '2.0/5' '3/10' '7/10' 'A-' '5/5' 'F' '3.5/4' 'D+' '1.5/4' '3.5/5'\n",
      " '8/10' 'B+' '9/10' '2.5/5' '7.5/10' '5.5/10' 'C-' '1.5/5' '1/5' '5/10'\n",
      " 'C+' '0/5' '6' '0.5/4' 'D' '3.1/5' '3/6' '4.5/5' '0/4' '2/10' 'D-' '7'\n",
      " '1/10' '3' 'A+' 'A' '4.0/4' '9.5/10' '2.5' '2.1/2' '6.5/10' '3.7/5'\n",
      " '8.4/10' '9' '1' '7.2/10' '2.2/5' '0.5/10' '5' '0' '2' '4.5' '7.7'\n",
      " '5.0/5' '8.5/10' '3.0/5' '0.5/5' '1.5/10' '3.0/4' '2.3/10' '4.5/10' '4/6'\n",
      " '3.5' '8.6/10' '6/8' '2.0/4' '2.7' '4.2/10' '5.8' '4' '7.1/10' '3.5/10'\n",
      " '5.8/10' '4.0/5' '0/10' '5.0/10' '5.9/10' '2.4/5' '1.9/5' '4.9' '7.4/10'\n",
      " '1.5' '2.3/4' '8.8/10' '4.0/10' '2.2' '3.8/10' '6.8/10' '7.3' '7.0/10'\n",
      " '3.2' '4.2' '8.4' '5.5/5' '6.3/10' '7.6/10' '8.1/10' '3.6/5' '2/6'\n",
      " '7.7/10' '1.8' '8.9/10' '8.9' '8.2/10' '8.3/10' '2.6/6' '4.1/10' '2.5/10'\n",
      " 'F+' '6.0/10' '1.0/4' '7.9/10' '8.7/10' '4.3/10' '9.6/10' '9.0/10' '4.0'\n",
      " '7.9' '6.7' '8.0/10' '9.2/10' '5.2' '5.9' '3.7' '4.7' '6.2/10' '1/6'\n",
      " '8.2' '2.6/5' '3.4' '9.7' '3.3/5' '3.8/5' '1/2' '7.4' '4.8' '1.6/5' '2/2'\n",
      " '1-5' '1.0' '4.3/5' '5/6' '9.2' '2.7/5' '4.9/10' '3.0' '3.1' '7.8/10'\n",
      " 'F-' '2.3/5' '3.0/10' '3/2' '7.8' '4.2/5' '9.0' '7.3/10' '4.4/5' '6.9/10'\n",
      " '0/6' 'T' '6.2' '3.3' '9.8' '8.5' '1.0/5' '4.1' '7.1' '3 1/2']\n",
      "fresh:\n",
      "['fresh' 'rotten']\n",
      "critic:\n",
      "['PJ Nabarro' 'Eric D. Snider' 'Matt Kelemen' ... 'Dayana Stetco'\n",
      " 'Raam Tarat' 'Bob Cannon']\n",
      "top_critic:\n",
      "[0 1]\n",
      "publisher:\n",
      "['Patrick Nabarro' 'EricDSnider.com' 'Las Vegas CityLife'\n",
      " 'EmanuelLevy.Com' 'Big Hollywood' 'Laramie Movie Scope' 'Movie Habit'\n",
      " 'The Aristocrat' 'Shotgun Cinema' \"Ozus' World Movie Reviews\"\n",
      " 'Salt Lake Tribune' 'Commercial Appeal (Memphis, TN)' 'Examiner.com'\n",
      " 'TV Guide' 'Arkansas Democrat-Gazette' 'Times-Picayune'\n",
      " 'St. Louis Post-Dispatch' 'FoxNews.com' 'Scene-Stealers.com'\n",
      " 'tonymacklin.net' 'SSG Syndicate' 'Antagony &amp; Ecstasy'\n",
      " 'Salt Lake City Weekly' 'FilmDrunk' \"One Guy's Opinion\" 'Cinema Autopsy'\n",
      " 'eFilmCritic.com' 'NECN' 'OK! Magazine' 'Austin Chronicle'\n",
      " 'San Francisco Examiner' 'Washington Post' 'Mark Reviews Movies'\n",
      " 'San Francisco Chronicle' 'Oregonian' 'Time Out Chicago'\n",
      " 'BrianOrndorf.com' 'Minneapolis Star Tribune' 'Seattle Times'\n",
      " 'HollywoodChicago.com' 'Philadelphia Daily News' 'Boston Globe'\n",
      " 'Monsters and Critics' 'St. Paul Pioneer Press' 'Miami Herald' 'RedEye'\n",
      " 'Chicago Sun-Times' 'Reeling Reviews' 'Film Freak Central' 'LarsenOnFilm'\n",
      " 'Orlando Weekly' 'PopMatters' 'HitFix' 'CinemaBlend' 'New York Post'\n",
      " 'amNewYork' 'CraveOnline' 'USA Today' 'Los Angeles Times'\n",
      " 'New York Daily News' 'New York Times' 'Rolling Stone' 'ReelViews'\n",
      " 'AV Club' 'Movieline' 'Film.com' 'MSN Movies' 'ScreenCrush'\n",
      " 'Boxoffice Magazine' 'ComingSoon.net' 'Slant Magazine' 'ColeSmithey.com'\n",
      " 'Time Out' 'The Popcorn Junkie' 'The Australian' 'Sydney Morning Herald'\n",
      " '3AW' 'ABC Radio (Australia)' 'MovieFIX' \"Matt's Movie Reviews\"\n",
      " 'The Sunday Age' 'Birmingham Mail ' 'Starburst' 'The List'\n",
      " 'Independent (UK)' 'London Evening Standard' 'Canada.com' 'What Culture'\n",
      " 'indieWire' 'Irish Times' 'Daily Express (UK)' 'The Sun (UK)' 'Fangoria'\n",
      " 'Financial Times' 'Daily Telegraph (UK)' 'Empire Magazine'\n",
      " 'Shadows on the Wall' 'ViewLondon' 'Total Film' 'NOW Toronto'\n",
      " 'Reel Film Reviews' 'Jam! Movies' 'Film4' \"JoBlo's Movie Emporium\"\n",
      " 'Doddle' 'Film School Rejects' 'Guardian' 'Common Sense Media'\n",
      " 'TheMovieReport.com' 'Fantastica Daily' 'Lawrence.com'\n",
      " 'rec.arts.movies.reviews' 'Las Vegas Review-Journal' 'Palo Alto Weekly'\n",
      " 'Netflix' 'SPLICEDWire' 'Cinematter' 'Internet Reviews' 'Detroit News'\n",
      " 'Hartford Courant' 'Chicago Tribune' 'Philadelphia Inquirer'\n",
      " 'Orlando Sentinel' 'Radio Times' 'Movie Metropolis'\n",
      " 'Entertainment Weekly' 'F5 (Wichita, KS)' 'Juicy Cerebellum'\n",
      " 'MovieCrypt.com' 'Movie Mom' 'Katrillion.com'\n",
      " 'Deseret News (Salt Lake City)' 'Filmcritic.com' 'Cinema Signals'\n",
      " 'Star-Democrat (Easton, MD)' 'About.com'\n",
      " 'The Coast (Halifax, Nova Scotia)' 'The Film Yap'\n",
      " 'Courier-Journal (Louisville, KY)' 'At the Movies'\n",
      " 'Rochester Democrat and Chronicle' 'Newsday' 'Reel.com' 'NUVO Newsweekly'\n",
      " 'Compuserve' 'Greenwich Village Gazette' 'Seattle Post-Intelligencer'\n",
      " 'Film Quips Online' 'Apollo Guide' 'Flick Filosopher' 'UK Critic'\n",
      " 'BBC.com' \"Scott Mantz' Movie Reviews\" 'Moviereviews.org'\n",
      " 'Sacramento News &amp; Review' 'Cincinnati Enquirer'\n",
      " 'Reno Gazette-Journal' 'Montreal Film Journal' 'Dark Horizons'\n",
      " 'Tyler Morning Telegraph (Texas)' 'Tooele Transcript-Bulletin (Utah)'\n",
      " 'Movie Eye' 'Cinemaphile.org' 'Q Network Film Desk' 'Modamag.com'\n",
      " 'Aisle Seat' 'Cinerina' 'Houston Community Newspapers'\n",
      " 'www.susangranger.com' 'TheFilmFile.com' 'Talking Pictures (U.S.)'\n",
      " 'Globe and Mail' 'Atlanta Journal-Constitution' 'Hollywood Report Card'\n",
      " 'Hollywood.com' 'Buffalo News' 'ReelzChannel.com'\n",
      " 'Capital Times (Madison, WI)' 'IGN Movies' 'Denver Post'\n",
      " 'Milwaukee Journal Sentinel' 'Kansas City Star' 'Arizona Republic'\n",
      " 'Times (UK)' 'MovieFreak.com' 'Toronto Star' 'Dallas Morning News'\n",
      " 'Combustible Celluloid' \"Murphy's Movie Reviews\" 'Metromix.com'\n",
      " 'Premiere Magazine' 'Newark Star-Ledger' 'Los Angeles Daily News'\n",
      " 'Christian Science Monitor' 'tonymedley.com' 'New Zealand Herald'\n",
      " 'Cinematical' 'eye WEEKLY' 'Eye for Film' 'Movies.com'\n",
      " 'The National (UAE)' 'Lessons of Darkness' 'Observer' 'Boston Phoenix'\n",
      " 'Moviehole' 'Flipside Movie Emporium' 'KFOR Channel 4 News'\n",
      " 'Northwest Herald (Crystal Lake, IL)' 'Worcester Telegram &amp; Gazette'\n",
      " 'Lawrence Journal-World' 'Cinemania' 'Afro-American' 'Arizona Daily Star'\n",
      " 'State Journal-Register (Springfield, IL)'\n",
      " 'Mountain Xpress (Asheville, NC)' 'Quad City Times (Davenport, IA)'\n",
      " 'AboutFilm.com' 'South Florida Sun-Sentinel' 'Sacramento Bee'\n",
      " 'Charlotte Observer' 'FilmStew.com' 'Denver Rocky Mountain News'\n",
      " 'San Jose Mercury News' 'Detroit Free Press' 'National Post'\n",
      " 'TheMovieChicks.com' 'Citysearch' 'Sun Publications (Chicago, IL)'\n",
      " 'Creative Loafing' 'Film Threat' 'Boston Herald' 'FilmJerk.com'\n",
      " 'ToxicUniverse.com' 'Video-Reviewmaster.com' 'Denton Record-Chronicle'\n",
      " 'Beach Reporter (Southern California)' 'Ladue News' 'Cinemole'\n",
      " 'The Times of India' 'Reel Talk Online' 'Metro (UK)'\n",
      " 'Washington Free Beacon' 'The Film Stage' 'AARP Movies for Grownups'\n",
      " 'ChrisStuckmann.com' 'AwardsCircuit.com' 'Movie Mezzanine' 'Movie Talk'\n",
      " 'At the Movies (Australia)' 'Cinema Sight' 'Impulse Gamer'\n",
      " 'Tampa Bay Times' 'Illinois Times' 'Honolulu Star-Advertiser'\n",
      " 'Cinema Writer' 'TheDivaReview.com' \"It's Just Movies\"\n",
      " 'ABC Radio Brisbane' 'Atlantic City Weekly' 'Cleveland Plain Dealer'\n",
      " 'Observer (UK)' 'Tri-City Herald' 'San Diego Union-Tribune'\n",
      " 'Advocate (Baton Rouge, LA)' 'ScreenRant'\n",
      " 'Journal and Courier (Lafayette, IN)' 'American Profile' 'Madison Movie'\n",
      " 'The Skinny' 'Daily Mirror (UK)' 'WaffleMovies.com' \"Lyles' Movie Files\"\n",
      " 'Beliefnet' 'Orange County Register' 'New England Movies Weekly'\n",
      " 'Fresno Bee' 'Chicago Daily Herald' 'Austin American-Statesman'\n",
      " 'EntertainmentTell' 'Sky Cinema' 'MLive.com' 'AskMen.com' 'MovieWeb'\n",
      " 'Digital Spy' 'Blu-ray.com' 'AspectRatio.us' 'Groucho Reviews' 'HeyUGuys'\n",
      " 'Deadspin' 'The Standard' 'Richard Roeper.com' 'ABC News Radio'\n",
      " 'Scotsman' 'Daily Star' 'Three Movie Buffs' '2UE That Movie Show'\n",
      " 'leonardmaltin.com' 'Moviedex' 'Tolucan Times' 'FromTheBalcony'\n",
      " 'RogerEbert.com' 'Concrete Playground' 'Bullz-Eye.com' 'Schmoes Know'\n",
      " 'Film Racket' 'Paste Magazine' 'Us Weekly' 'Contactmusic.com' 'Metro'\n",
      " 'honeycuttshollywood.com' 'Spirituality and Practice' 'Quickflix'\n",
      " 'The Dissolve' 'We Got This Covered' 'Associated Press' 'Cinephiled'\n",
      " '7M Pictures' 'Flicks.co.nz' 'Killer Movie Reviews'\n",
      " 'Tribune News Service' 'SFX Magazine' 'Film Scouts' 'www.kcactive.com'\n",
      " 'Los Angeles Alternative' 'Low IQ Canadian' 'Des Moines Register'\n",
      " \"Nick's Flick Picks\" 'All Movie Guide' 'Chicago Reader' 'Film Blather'\n",
      " 'Christianity Today' 'Zap2it.com' 'Film-Forward.com' 'Mixed Reviews'\n",
      " 'Future Movies UK' 'd+kaz. intelligent movie reviews' 'Sympatico.ca'\n",
      " 'Looking Closer' 'Film Written Magazine' \"Bryant Frazer's Deep Focus\"\n",
      " 'CheckOut.com' 'Needcoffee.com' 'Stage Newspaper'\n",
      " 'Metro Times (Detroit, MI)' 'culturevulture.net' 'New Times' 'KPBS.org'\n",
      " 'Nitrate Online' 'Pasadena Weekly' 'Bangor Daily News (Maine)'\n",
      " \"Greg's Previews at Yahoo! Movies\" 'Draxblog Movie Reviews'\n",
      " 'Bangitout.com' 'Oregon Herald' 'Roanoke Times (Virginia)'\n",
      " 'Las Vegas Weekly' 'Contra Costa Times' 'Planet S Magazine'\n",
      " 'Blunt Review' 'Old School Reviews' 'Houston Chronicle' 'NutzWorld'\n",
      " \"Goatdog's Movies\" 'PopcornQ' 'Boulder Weekly' 'DVD Review'\n",
      " 'Los Angeles CityBeat' 'Sci-Fi Movie Page' 'Tulsa World'\n",
      " 'Spokesman-Review (Washington)' 'Baltimore Sun'\n",
      " \"Scott Renshaw's Screening Room\" 'Sunday Times (UK)' 'INDY Week'\n",
      " 'News &amp; Observer (Raleigh, NC)' 'Bloomberg News' 'Little White Lies'\n",
      " 'The Playlist' 'Alternative Lens' 'CineVue' 'The Oklahoman'\n",
      " 'The Arts Desk' 'John Hanlon Reviews' 'Seven Days' 'The Patriot Ledger'\n",
      " 'Spectrum (St. George, Utah)' \"Mark Leeper's Reviews\" 'The Sun Herald'\n",
      " 'jackiekcooper.com' 'MediaMikes' 'AALBC.com' 'ScreenAnarchy' 'KC Active'\n",
      " 'ReviewExpress.com' 'Shockya.com' 'Daily Mail (UK)'\n",
      " 'Suburban Journals of St. Louis' 'Birmingham Post' 'The Reel Deal'\n",
      " 'Hot Button' 'ESplatter' 'Georgia Straight' 'Zertinet Movies'\n",
      " 'Bloody Disgusting' 'Now Playing Magazine' 'Movie Views' 'Lowell Sun'\n",
      " 'The Age (Australia)' 'Toledo Blade' 'Watertown Daily Times' 'MSNBC'\n",
      " 'NewsBlaze' 'Heart 106.2' \"Nolan's Pop Culture Review\" 'Cinemaclips.com'\n",
      " 'Beaumont Journal' 'Entertainment Insiders' 'Maxim' 'Sean the Movie Guy'\n",
      " 'E! Online' 'Big Picture Big Sound' 'SF Crowsnest' 'Real Queen of Horror'\n",
      " 'Independent Online (South Africa)' 'Daily Dead' 'Mania.com'\n",
      " 'Fat Guys at the Movies' 'TheArtsStl' 'Cinencuentro' 'sbs.is'\n",
      " 'Decent Films Guide' 'Not Coming to a Theater Near You'\n",
      " 'Kalamazoo Gazette' 'Kansas City Kansan' \"Women's Voices for Change\"\n",
      " 'KWQC-TV (Iowa)' 'MovieMartyr.com' 'Television Without Pity' 'Film Snobs'\n",
      " 'The Scorecard Review' 'BrandonFibbs.com' 'NYC Movie Guru'\n",
      " 'News of the World' 'CinemaDope' 'Houston Press' 'Daily Film Fix'\n",
      " 'Entertainment Spectrum' 'The Trend' 'Pittsburgh Post-Gazette'\n",
      " 'Florida Times-Union' 'Sarasota Herald-Tribune' 'Access Hollywood'\n",
      " 'Real.com' 'Uruguay Total' 'Newcity' 'FilmFour.com' 'Countingdown.com'\n",
      " 'sbs.com.au' 'DCist' 'Unknown2' 'Time Out Sydney'\n",
      " 'Empire Magazine Australasia' 'Alternate Ending' 'Projection Booth'\n",
      " 'FilmFestivals.com' 'Silver Screen Riot' 'FanboyNation.com'\n",
      " 'Rendy Reviews' 'Gwinnett Daily Post (GA)' 'The Herald (Scotland)'\n",
      " 'Flickering Myth' 'South China Morning Post' 'TheShiznit.co.uk'\n",
      " 'The Young Folks' 'The Straits Times (Singapore)'\n",
      " 'Sunday Independent (Ireland)' 'Irish Independent' 'Indie London'\n",
      " 'Cairo360' 'Den of Geek' 'Vox' 'NY1-TV' 'Toronto Sun'\n",
      " 'Consequence of Sound' 'Movie Nation' 'Deadline Hollywood Daily'\n",
      " 'Collider' 'The Moving Picture Show' 'Greater Milwaukee Today'\n",
      " 'Entertainment Today' 'Screen It!' 'Eclipse Magazine'\n",
      " 'James Sanford on Film' 'Movies for the Masses' 'MTV'\n",
      " 'Indie Movies Online' 'BDK Reviews' 'I.E. Weekly' 'DVDTalk.com'\n",
      " 'Film and Felt' \"Martha's Vineyard Times (Massachusetts)\"\n",
      " 'San Antonio Express-News' 'Metro Weekly (Washington, DC)'\n",
      " 'Billings Outpost (Montana)' 'Daily Record (UK)' 'Matinee Magazine'\n",
      " 'Window to the Movies' 'West Valley View' 'Variety' 'Las Vegas Mercury'\n",
      " 'Supercala.com' 'KBTV-NBC (Beaumont, TX)' 'Sunday Times (Australia)'\n",
      " 'Your Movies (cleveland.com)' 'FEARnet' 'Herald Sun (Australia)'\n",
      " 'Courier Mail (Australia)' 'Film Journal International' 'Pajiba'\n",
      " 'Chico Enterprise-Record' 'School Library Journal' 'Fort Bend Sun'\n",
      " 'CNNRadio' 'Heat Magazine' 'smh.com.au' 'Sunday Mail (Australia)'\n",
      " 'Tucson Weekly' 'IdentityTheory' 'Seacoast Newspapers (NH/Maine)'\n",
      " 'Richmond Times-Dispatch' 'The Movie Kit' 'BET.com' 'NPR' 'Cinemalogue'\n",
      " 'Kinetofilm' 'Washington Times' \"Critic's Notebook\" 'Gazette (MD)'\n",
      " 'Bean Soup Times' 'The Badger Herald' 'MovieJuice!' 'Teletext'\n",
      " 'Good Morning America' 'Radio Free Entertainment' 'WBAI Web Radio'\n",
      " 'Mr. Showbiz' 'Dispatch-Tribune Newspapers' 'EDGE Boston' 'Screenwize'\n",
      " 'thelondonpaper' 'Sunday Mirror (UK)' 'WJFK-FM (CBS Radio)' 'DVDLaser'\n",
      " 'Shared Darkness' 'MovieMaker Magazine' 'Hindustan Times'\n",
      " 'International Press Academy' 'Tsunami Magazine' 'Showbizz.net'\n",
      " 'The Mail on Sunday (UK)' 'FulvueDrive-in.com' 'One Room With A View'\n",
      " 'Movies with Mae' 'Film Festival Today' 'Fresh Fiction' 'Filmfare'\n",
      " 'The New Paper (Singapore)' 'Sensacine' 'News.com.au' 'The Mercury'\n",
      " 'FILMINK (Australia)' 'Under the Radar' 'Otroscines.com' 'Cambridge Day'\n",
      " 'Huffington Post' 'Ex-Press.com' 'HollywoodInToto.com' 'Seattle Weekly'\n",
      " 'Playboy Online' 'San Diego Reader' 'Fort Worth Star-Telegram/DFW.com'\n",
      " 'AllMovie' 'Vue Weekly (Edmonton, Alberta)' 'Parade Magazine'\n",
      " 'Baltimore Magazine' 'Punch Drunk Critics' 'CineXpress' 'Daily-Reviews'\n",
      " 'Jaman' 'Manhattan Movie Magazine' 'Urban Tulsa Weekly'\n",
      " 'Journal News (Westchester, NY)' 'Filmstar Magazine'\n",
      " 'Daily Telegraph (Australia)' 'EnPrimeur.ca' 'Reno News and Review'\n",
      " 'Triple J' 'Lybarger Links' 'San Antonio Current ' 'Rescu (Australia)'\n",
      " 'Columbus Alive' 'Complex' 'The Mary Sue' 'Japan Times' 'Hot Press'\n",
      " 'Fan The Fire' 'Garuyo' 'En Filme' 'Chilango.com' 'Rip It Up' 'Junkee'\n",
      " 'Student Edge' 'The New Republic' 'HeraldNet (Everett, WA)'\n",
      " 'Winnipeg Free Press' 'Baret News' 'International Business Times'\n",
      " 'Rediff.com' 'Broomfield Enterprise' 'EURWeb' 'World Voice News'\n",
      " 'Sin Magazine' 'Offoffoff' 'Movie City News' 'Graffiti With Punctuation'\n",
      " 'TheWrap' 'Henderson Home News (Henderson, NV)' 'The Hollywood Outsider'\n",
      " 'The Monitor (McAllen, TX)' 'Epoch Times' 'Forbes' 'The Backlot'\n",
      " 'L.A. Weekly' 'Nerdist' 'Edge Media Network' 'TheFrightFile.com'\n",
      " 'Stranger Song' 'Heritage Konpa Magazine' 'House Next Door' 'FilmFocus'\n",
      " 'DVD Verdict' 'Midwest Film Journal ' 'ReelTalk Movie Reviews'\n",
      " 'Bright Lights Film Journal' 'CultureCatch' 'Thompson on Hollywood'\n",
      " 'La Movie Boeuf' 'Cinema em Cena' 'CHUD' 'Fort Worth Business Press'\n",
      " 'eCinemaCenter.com' 'Cinemixtape' 'COED.com' 'Akron Beacon Journal'\n",
      " 'The Blogging Banshee' 'Fanboys of the Universe'\n",
      " 'Daily Journal (Kankakee, IL)' 'The Virginian-Pilot' 'Screen-Space'\n",
      " 'Willamette Week' 'SciFiNow' 'WOW247' 'Charlotte Weekly' 'TIME Magazine'\n",
      " 'TheLoop21.com' 'Cedar Hill Sentinel (TX)' 'Reelrave' 'NYC Film Critic'\n",
      " 'AOL Black Voices' 'CampBlood.org' 'Wisconsin State Journal'\n",
      " 'Movie Poop Shoot' 'Big Apple Reviews' 'Moviola' 'The Movie Minute'\n",
      " 'IGN Movies UK' 'Star Newspapers (Chicago, IL)' 'Substream Magazine'\n",
      " 'The Jam Report' 'What I Watched Tonight' 'City Press (South Africa)'\n",
      " 'Mediaversity Reviews' 'The Lonely Film Critic' 'The National (Scotland)'\n",
      " 'BuffaloVibe' 'Geek Girl Authority' 'AXS.com' 'El Mundo (Spain)'\n",
      " 'Me gusta el cine' 'Cine Premiere' 'Film Experience' 'Movie Network'\n",
      " 'ArtsHub' 'Splice Today' 'Movies4Kids' 'Stuff.co.nz'\n",
      " 'Chesapeake Family Magazine' 'Slashfilm' 'Entertainment Affair '\n",
      " 'Reel Reviews' 'We Live Entertainment' 'The Cinema Source'\n",
      " 'BlackFilm.com' 'Redbox' 'Fayetteville Free Weekly'\n",
      " 'Colorado Springs Gazette' 'OhmyNews.com' 'The Critical Movie Critics'\n",
      " 'The Only Critic' 'Columbus Underground' 'Flicks.com.au' 'HighDef Digest'\n",
      " 'Crooked Marquee' 'Original Cin' 'The Movie Cricket' 'Final Cut on Film'\n",
      " 'Family Home Theater' 'Cinema Crazed' 'Norman Transcript' 'Cinephiles'\n",
      " 'Princeton Town Topics' 'Cityview (Des Moines, Iowa)' 'Movie Gazette'\n",
      " 'Palm Beach Daily News' 'Peterborough This Week' 'Dread Central'\n",
      " 'Post and Courier (Charleston, SC)' 'The Gate'\n",
      " 'The Asahi Shimbun GLOBE (Japan)' 'Kaplan vs. Kaplan' 'iF Magazine' 'UGO'\n",
      " 'Gulf News (UAE)' 'Movie Gurus' 'Sly Fox' 'Hearst Newspapers'\n",
      " 'The Herald (Ireland)' 'Modern Fabulousity' 'Bronsonfive'\n",
      " 'Screen International' 'Fotogramas' 'BlackNews.com' 'MovieMinis'\n",
      " 'Spectrum Culture' 'Bust Magazine'\n",
      " 'National Newspaper Publishers Association ' 'Popoptiq' 'UTV'\n",
      " 'DVD Clinic' 'Utah Weekly' 'Mars Colony' 'Cinematic Reflections'\n",
      " 'People Magazine' 'ChristyLemire.com' 'Flixist.com'\n",
      " 'The Newnan Times-Herald' 'EscribiendoCine' 'SET Magazine'\n",
      " 'The Washingtonian' 'Cinefantastique' 'Freeze Dried Movies'\n",
      " 'Movie Chambers' 'Moviefone' 'Central Track' 'GreenCine'\n",
      " 'Jacksonville Film Journal' 'Critics Inc./America Online'\n",
      " 'Rotten Tomatoes' 'Cinema Movil' 'The AU Review' 'ABC Tucson'\n",
      " 'The Digital Fix' 'The Movie Sleuth' 'Cinemayward' 'The Blu Spot'\n",
      " 'Dog and Wolf' 'Scene Creek' 'Black Nerd Problems'\n",
      " 'Good Times Santa Cruz' 'National Catholic Register'\n",
      " 'Brightest Young Things' 'ThatShelf.com' 'Hollywood News'\n",
      " 'Mad About Movies Podcast' 'Bowling Green Daily News' 'Cinemazine'\n",
      " 'Film Companion Reviews' '812filmreviews' 'Far Out Magazine'\n",
      " 'Alachia Queen' 'Limelight' 'iNews.co.uk' 'Phantom Tollbooth'\n",
      " 'Black Girl Nerds' 'World of Reel' 'Uproxx' 'The Baltic Times' 'IFC.com'\n",
      " 'IGN Movies AU' 'Suite101.com' 'TheWorldJournal.com' 'CineScene.com'\n",
      " 'Filmfest' 'Cineaste Magazine' 'Star Magazine' 'Echo Magazine'\n",
      " 'Diario La Estrella (Fort Worth, TX)' 'Cinenganos' 'Clothes on Film'\n",
      " 'Movie-Vault.com' 'Baseline.Hollywood.com' 'Caution Spoilers'\n",
      " 'Montreal Gazette' 'Film International' 'Philadelphia City Paper'\n",
      " 'Trades' 'Flak Magazine' 'Gay.com UK' 'Sci-Fi Weekly' 'Back Stage'\n",
      " 'SciFi.com' 'KyleSmithOnline.com' 'NY Rock' 'Daily Radar'\n",
      " 'Pittsburgh Magazine' 'Culture Whisper' \"Sarah's Backstage Pass\"\n",
      " 'Rave Reviews' 'Perri Nemiroff' 'Attitude' 'Geek' 'Gay Essential'\n",
      " 'Fopp.com' 'Pitch.com' 'SassyMamaInLA' 'Weekly Planet (Tampa, FL)'\n",
      " 'Aufmuth.com' 'musicOMH.com' 'Filmwell' 'NerdTears.com' 'Patch'\n",
      " 'SF Weekly' 'Moviebob Central' 'CineGods.com' 'Jaredmobarak.com'\n",
      " 'GeekNation' 'Film Geek Central' 'Image' 'Assignment X' 'CBC News'\n",
      " 'Showbiz Junkies' 'Movie Guys with Jeff &amp; Dave'\n",
      " 'KQED (San Francisco)' 'AwardsWatch' 'FilmsInReview.com' 'Wordmag.com'\n",
      " 'Newsweek' 'Colbybryant.com' 'Tampa Tribune' 'Providence American'\n",
      " 'Movies in Focus' 'Medium Popcorn' 'MetroActive' 'F This Movie!'\n",
      " 'Movie Corner' \"Zaki's Corner\" 'Every Movie Has a Lesson'\n",
      " 'Black Critic Guy' 'Filmspotting' 'Fresh and Frowsy'\n",
      " 'The Inlander (Spokane, WA)' 'The Weekend Warrior' 'ColoradoParent.com'\n",
      " 'Slasherpool' 'Deconstructing Edward' 'cinemaobsession.com'\n",
      " 'Black Star News' 'AfterElton.com' 'CutPrintFilm' 'Daily Trend (Mexico)'\n",
      " 'Movie Magazine International' 'Organica News' 'Giant Freakin Robot'\n",
      " 'Revolver' 'FrewFilm' 'Dare Daniel' 'Aggressive Comix' 'Slate'\n",
      " 'What She Said' 'Liverpool Echo' 'Classic Film and Television'\n",
      " 'Vancouver Sun' 'MUBI' 'Scotland on Sunday' 'Hollywood Reporter'\n",
      " 'Elements of Madness' 'We Bought a Blog' 'The Nerd Repository'\n",
      " 'Business Insider' 'Sight and Sound' 'Giant Magazine' 'Response'\n",
      " 'New York Press' 'Awards Circuit' 'FF2 Media' 'Seanax.com'\n",
      " \"Let's Not Listen\" 'Shakefire' 'Cloture Club' 'MattPais.com'\n",
      " 'Brag Magazine' 'Yahoo! Movies' 'SheKnows Network' 'Salon.com'\n",
      " 'En la butaca' 'NPR.org' 'ON Magazine' 'Insider' 'Sloths and Movies'\n",
      " 'outrate.net' 'Hollywood Bitchslap' 'Town Talk (Alexandria, LA)'\n",
      " 'Birth.Movies.Death.' 'LivePDX' 'Hero Collector' 'Discussing Film'\n",
      " 'CBC News Network' 'The Filtered Lens' \"Maven's Nest\" 'Screen Junkies'\n",
      " 'Richmond Post' 'AMCtv.com' 'Mediasharx' 'The Big Issue (Australia)']\n",
      "date:\n",
      "['November 10, 2018' 'July 17, 2013' 'April 21, 2013' ...\n",
      " 'February 14, 2002' 'April 1, 1993' 'September 30, 2002']\n"
     ]
    }
   ],
   "source": [
    "#checking unique values\n",
    "for col in df.columns:\n",
    "    print(f\"{col}:\")\n",
    "    print(df[col].unique())"
   ]
  },
  {
   "cell_type": "code",
   "execution_count": 17,
   "id": "d3031266",
   "metadata": {},
   "outputs": [
    {
     "data": {
      "text/plain": [
       "dtype('O')"
      ]
     },
     "execution_count": 17,
     "metadata": {},
     "output_type": "execute_result"
    }
   ],
   "source": [
    "df['date'].dtype"
   ]
  },
  {
   "cell_type": "code",
   "execution_count": 18,
   "id": "50d8ddfe",
   "metadata": {},
   "outputs": [
    {
     "data": {
      "text/plain": [
       "dtype('<M8[ns]')"
      ]
     },
     "execution_count": 18,
     "metadata": {},
     "output_type": "execute_result"
    }
   ],
   "source": [
    "#Coverting the event.date into a datetime type\n",
    "df['date'] = pd.to_datetime(df['date'], errors='coerce')\n",
    "df['date'].dtype"
   ]
  },
  {
   "cell_type": "code",
   "execution_count": 19,
   "id": "98eab77c",
   "metadata": {},
   "outputs": [
    {
     "data": {
      "text/plain": [
       "3/5      4015\n",
       "3/4      3471\n",
       "4/5      3394\n",
       "2/5      2977\n",
       "2/4      2622\n",
       "         ... \n",
       "8.9         1\n",
       "3.1/5       1\n",
       "7.7         1\n",
       "2.2/5       1\n",
       "2.3/5       1\n",
       "Name: rating, Length: 182, dtype: int64"
      ]
     },
     "execution_count": 19,
     "metadata": {},
     "output_type": "execute_result"
    }
   ],
   "source": [
    "df['rating'].value_counts()"
   ]
  },
  {
   "cell_type": "code",
   "execution_count": 20,
   "id": "86d589cc",
   "metadata": {},
   "outputs": [],
   "source": [
    "# Defining letter grade mapping\n",
    "letter_grades = {\n",
    "    'A+': 10.0, 'A': 9.5, 'A-': 9.0,\n",
    "    'B+': 8.5, 'B': 8.0, 'B-': 7.5,\n",
    "    'C+': 7.0, 'C': 6.5, 'C-': 6.0,\n",
    "    'D+': 5.5, 'D': 5.0, 'D-': 4.5,\n",
    "    'F+': 4.0, 'F': 3.5, 'F-': 3.0\n",
    "}\n",
    "\n",
    "\n",
    "# Normalizing fractional ratings to 10-point scale\n",
    "def normalize_rating(val):\n",
    "    try:\n",
    "        if '/' in val:\n",
    "            num, den = val.split('/')\n",
    "            return round(float(num) / float(den) * 10, 2)\n",
    "        elif val in letter_grades:\n",
    "            return letter_grades[val]\n",
    "        else:\n",
    "            return float(val)\n",
    "    except:\n",
    "        return None\n",
    "df['rating'] = df['rating'].apply(normalize_rating)"
   ]
  },
  {
   "cell_type": "code",
   "execution_count": 21,
   "id": "ea1dc895",
   "metadata": {},
   "outputs": [
    {
     "data": {
      "text/plain": [
       "8.00     5122\n",
       "6.00     5008\n",
       "7.50     4330\n",
       "5.00     4249\n",
       "4.00     3260\n",
       "         ... \n",
       "2.30        1\n",
       "15.00       1\n",
       "5.40        1\n",
       "4.60        1\n",
       "4.33        1\n",
       "Name: rating, Length: 82, dtype: int64"
      ]
     },
     "execution_count": 21,
     "metadata": {},
     "output_type": "execute_result"
    }
   ],
   "source": [
    "df['rating'].value_counts()"
   ]
  },
  {
   "cell_type": "code",
   "execution_count": 22,
   "id": "48ba8b7e",
   "metadata": {},
   "outputs": [
    {
     "data": {
      "text/plain": [
       "(38734, 7)"
      ]
     },
     "execution_count": 22,
     "metadata": {},
     "output_type": "execute_result"
    }
   ],
   "source": [
    "df.shape"
   ]
  },
  {
   "cell_type": "markdown",
   "id": "7dc55a81",
   "metadata": {},
   "source": [
    "Ratings above 10.0 are likely poorly formatted fractions (like '3/2'). We drop them."
   ]
  },
  {
   "cell_type": "code",
   "execution_count": 23,
   "id": "c09635f8",
   "metadata": {},
   "outputs": [
    {
     "data": {
      "text/plain": [
       "(38717, 7)"
      ]
     },
     "execution_count": 23,
     "metadata": {},
     "output_type": "execute_result"
    }
   ],
   "source": [
    "#dropping suspicious ratings\n",
    "df = df[df['rating'] <= 10]\n",
    "df.shape"
   ]
  },
  {
   "cell_type": "markdown",
   "id": "990f776c",
   "metadata": {},
   "source": [
    "17 ratings were written incorrectly"
   ]
  },
  {
   "cell_type": "code",
   "execution_count": 24,
   "id": "b4dcd433",
   "metadata": {},
   "outputs": [
    {
     "data": {
      "image/png": "[encoded data removed]",
      "text/plain": [
       "<Figure size 864x432 with 1 Axes>"
      ]
     },
     "metadata": {
      "needs_background": "light"
     },
     "output_type": "display_data"
    }
   ],
   "source": [
    "plt.figure(figsize=(12, 6))\n",
    "\n",
    "plt.hist(df['rating'], bins=10, color='skyblue', edgecolor='black')\n",
    "plt.title('Histogram of Normalized Ratings')\n",
    "plt.xlabel('Rating (0–10 scale)')\n",
    "plt.ylabel('Frequency')\n",
    "\n",
    "plt.tight_layout()\n",
    "plt.show()\n"
   ]
  },
  {
   "cell_type": "code",
   "execution_count": 26,
   "id": "f9afe508",
   "metadata": {},
   "outputs": [],
   "source": [
    "df['publisher'] = df['publisher'].str.strip().str.lower()"
   ]
  }
 ],
 "metadata": {
  "kernelspec": {
   "display_name": "base",
   "language": "python",
   "name": "python3"
  },
  "language_info": {
   "codemirror_mode": {
    "name": "ipython",
    "version": 3
   },
   "file_extension": ".py",
   "mimetype": "text/x-python",
   "name": "python",
   "nbconvert_exporter": "python",
   "pygments_lexer": "ipython3",
   "version": "3.12.3"
  }
 },
 "nbformat": 4,
 "nbformat_minor": 5
}
