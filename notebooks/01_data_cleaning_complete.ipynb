{
  "cells": [
    {
      "cell_type": "markdown",
      "metadata": {},
      "source": [
        "# Movie Dataset Cleaning Pipeline\n",
        "## Comprehensive Data Cleaning for EDA Project\n",
        "\n",
        "This notebook systematically cleans all movie datasets from the `Original_Data` folder and exports clean, analysis-ready datasets.\n",
        "\n",
        "### \ud83d\udccb Datasets to Process:\n",
        "1. **Box Office Mojo** (`bom.movie_gross.csv.gz`) - Box office gross earnings\n",
        "2. **TMDb Movies** (`tmdb.movies.csv.gz`) - The Movie Database metadata\n",
        "3. **Movie Budgets** (`tn.movie_budgets.csv.gz`) - Production budgets and revenues\n",
        "4. **Rotten Tomatoes Info** (`rt.movie_info.tsv.gz`) - Movie ratings and metadata\n",
        "\n",
        "### \ud83c\udfaf Cleaning Objectives:\n",
        "- Handle missing values appropriately\n",
        "- Standardize data types and formats\n",
        "- Remove duplicates\n",
        "- Clean financial data (currency formatting)\n",
        "- Validate and correct data inconsistencies\n",
        "- Export clean datasets for analysis"
      ]
    },
    {
      "cell_type": "code",
      "execution_count": null,
      "metadata": {},
      "outputs": [],
      "source": [
        "# Import required libraries\n",
        "import pandas as pd\n",
        "import numpy as np\n",
        "import warnings\n",
        "from pathlib import Path\n",
        "\n",
        "# Configure pandas for better display\n",
        "pd.set_option(\"display.max_columns\", None)\n",
        "pd.set_option(\"display.width\", None)\n",
        "warnings.filterwarnings(\"ignore\")\n",
        "\n",
        "# Create directories\n",
        "Path(\"cleaned_data\").mkdir(exist_ok=True)\n",
        "\n",
        "print(\"\u2705 Environment setup complete!\")\n",
        "print(f\"\ud83d\udcc1 Working directory: {Path.cwd()}\")"
      ]
    },
    {
      "cell_type": "markdown",
      "metadata": {},
      "source": [
        "## 1. Box Office Mojo Data Cleaning\n",
        "\n",
        "Starting with the Box Office Mojo dataset which contains movie gross earnings data."
      ]
    },
    {
      "cell_type": "code",
      "execution_count": null,
      "metadata": {},
      "outputs": [],
      "source": [
        "# Load Box Office Mojo data\n",
        "print(\"\ud83c\udfac Processing Box Office Mojo Data\")\n",
        "print(\"=\" * 40)\n",
        "\n",
        "bom_df = pd.read_csv(\"Original_Data/bom.movie_gross.csv.gz\", compression=\"gzip\")\n",
        "\n",
        "print(f\"\ud83d\udcca Original shape: {bom_df.shape}\")\n",
        "print(f\"\ud83d\udccb Columns: {list(bom_df.columns)}\")\n",
        "print(\"\n\ud83d\udd0d First 5 rows:\")\n",
        "display(bom_df.head())\n",
        "\n",
        "# Check data types and missing values\n",
        "print(\"\n\ud83d\udcc8 Data info:\")\n",
        "bom_df.info()\n",
        "print(\"\n\u274c Missing values:\")\n",
        "print(bom_df.isnull().sum())"
      ]
    }
  ],
  "metadata": {
    "kernelspec": {
      "display_name": "Python 3",
      "language": "python",
      "name": "python3"
    },
    "language_info": {
      "codemirror_mode": {
        "name": "ipython",
        "version": 3
      },
      "file_extension": ".py",
      "name": "python",
      "nbconvert_exporter": "python",
      "pygments_lexer": "ipython3",
      "version": "3.8.0"
    }
  },
  "nbformat": 4,
  "nbformat_minor": 4
}