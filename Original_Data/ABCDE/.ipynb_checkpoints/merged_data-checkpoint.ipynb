{
 "cells": [
  {
   "cell_type": "markdown",
   "id": "fdd61664",
   "metadata": {},
   "source": [
    "# Movie Data Cleaning and Merging Process\n",
    "## Project Overview\n",
    "We're going to merge multiple movie datasets to create a comprehensive database for analysis. Our goal is to combine IMDB ratings, box office data, TMDB scores, and budget information into one clean dataset.\n",
    "\n",
    "### Data Sources:\n",
    "\n",
    "IMDB: Movie metadata, ratings, and crew info, \n",
    "Box Office Mojo: Revenue data (domestic/foreign gross), \n",
    "TMDB: Additional ratings and popularity scores and\n",
    "The Numbers: Production budget data"
   ]
  },
  {
   "cell_type": "markdown",
   "id": "0157619c",
   "metadata": {},
   "source": [
    "## Initial Setup and Data Loading\n",
    "\n",
    "First, we need to set up pandas display options so we can see all the columns properly when debugging. Then we'll load our main datasets."
   ]
  },
  {
   "cell_type": "code",
   "execution_count": 1,
   "id": "8a777e70",
   "metadata": {},
   "outputs": [
    {
     "name": "stdout",
     "output_type": "stream",
     "text": [
      "IMDB dataset: (83375, 12)\n",
      "Box Office Mojo dataset: (3387, 7)\n"
     ]
    }
   ],
   "source": [
    "import pandas as pd\n",
    "import numpy as np\n",
    "\n",
    "# Better display options for debugging\n",
    "pd.set_option('display.max_columns', None)\n",
    "pd.set_option('display.max_colwidth', None)\n",
    "pd.set_option('display.float_format', '{:,.0f}'.format)  # cleaner number formatting\n",
    "\n",
    "# Load our datasets\n",
    "imdb_df = pd.read_csv(\"clean_imdb_data.csv\")\n",
    "bom_df = pd.read_csv(\"cleaned_bom.movie_gross.csv\")\n",
    "\n",
    "print(f\"IMDB dataset: {imdb_df.shape}\")\n",
    "print(f\"Box Office Mojo dataset: {bom_df.shape}\")"
   ]
  },
  {
   "cell_type": "markdown",
   "id": "27270bf9",
   "metadata": {},
   "source": [
    "Let's take a quick look at what we're working with:"
   ]
  },
  {
   "cell_type": "code",
   "execution_count": 2,
   "id": "c3b31065",
   "metadata": {},
   "outputs": [
    {
     "data": {
      "text/html": [
       "<div>\n",
       "<style scoped>\n",
       "    .dataframe tbody tr th:only-of-type {\n",
       "        vertical-align: middle;\n",
       "    }\n",
       "\n",
       "    .dataframe tbody tr th {\n",
       "        vertical-align: top;\n",
       "    }\n",
       "\n",
       "    .dataframe thead th {\n",
       "        text-align: right;\n",
       "    }\n",
       "</style>\n",
       "<table border=\"1\" class=\"dataframe\">\n",
       "  <thead>\n",
       "    <tr style=\"text-align: right;\">\n",
       "      <th></th>\n",
       "      <th>movie_id</th>\n",
       "      <th>primary_title</th>\n",
       "      <th>original_title</th>\n",
       "      <th>start_year</th>\n",
       "      <th>runtime_minutes</th>\n",
       "      <th>genres</th>\n",
       "      <th>person_id</th>\n",
       "      <th>averagerating</th>\n",
       "      <th>numvotes</th>\n",
       "      <th>category</th>\n",
       "      <th>primary_name</th>\n",
       "      <th>primary_profession</th>\n",
       "    </tr>\n",
       "  </thead>\n",
       "  <tbody>\n",
       "    <tr>\n",
       "      <th>0</th>\n",
       "      <td>tt0063540</td>\n",
       "      <td>Sunghursh</td>\n",
       "      <td>Sunghursh</td>\n",
       "      <td>2013</td>\n",
       "      <td>175</td>\n",
       "      <td>Action,Crime,Drama</td>\n",
       "      <td>nm0712540</td>\n",
       "      <td>7</td>\n",
       "      <td>77</td>\n",
       "      <td>director</td>\n",
       "      <td>Harnam Singh Rawail</td>\n",
       "      <td>director,writer,producer</td>\n",
       "    </tr>\n",
       "    <tr>\n",
       "      <th>1</th>\n",
       "      <td>tt0066787</td>\n",
       "      <td>One Day Before the Rainy Season</td>\n",
       "      <td>Ashad Ka Ek Din</td>\n",
       "      <td>2019</td>\n",
       "      <td>114</td>\n",
       "      <td>Biography,Drama</td>\n",
       "      <td>nm0002411</td>\n",
       "      <td>7</td>\n",
       "      <td>43</td>\n",
       "      <td>director</td>\n",
       "      <td>Mani Kaul</td>\n",
       "      <td>director,writer,actor</td>\n",
       "    </tr>\n",
       "  </tbody>\n",
       "</table>\n",
       "</div>"
      ],
      "text/plain": [
       "    movie_id                    primary_title   original_title  start_year  \\\n",
       "0  tt0063540                        Sunghursh        Sunghursh        2013   \n",
       "1  tt0066787  One Day Before the Rainy Season  Ashad Ka Ek Din        2019   \n",
       "\n",
       "   runtime_minutes              genres  person_id  averagerating  numvotes  \\\n",
       "0              175  Action,Crime,Drama  nm0712540              7        77   \n",
       "1              114     Biography,Drama  nm0002411              7        43   \n",
       "\n",
       "   category         primary_name        primary_profession  \n",
       "0  director  Harnam Singh Rawail  director,writer,producer  \n",
       "1  director            Mani Kaul     director,writer,actor  "
      ]
     },
     "execution_count": 2,
     "metadata": {},
     "output_type": "execute_result"
    }
   ],
   "source": [
    "# peek at the data structure\n",
    "imdb_df.head(2)"
   ]
  },
  {
   "cell_type": "code",
   "execution_count": 3,
   "id": "10aad217",
   "metadata": {},
   "outputs": [
    {
     "data": {
      "text/html": [
       "<div>\n",
       "<style scoped>\n",
       "    .dataframe tbody tr th:only-of-type {\n",
       "        vertical-align: middle;\n",
       "    }\n",
       "\n",
       "    .dataframe tbody tr th {\n",
       "        vertical-align: top;\n",
       "    }\n",
       "\n",
       "    .dataframe thead th {\n",
       "        text-align: right;\n",
       "    }\n",
       "</style>\n",
       "<table border=\"1\" class=\"dataframe\">\n",
       "  <thead>\n",
       "    <tr style=\"text-align: right;\">\n",
       "      <th></th>\n",
       "      <th>title</th>\n",
       "      <th>studio</th>\n",
       "      <th>domestic_gross</th>\n",
       "      <th>foreign_gross</th>\n",
       "      <th>year</th>\n",
       "      <th>year_only</th>\n",
       "      <th>total_gross</th>\n",
       "    </tr>\n",
       "  </thead>\n",
       "  <tbody>\n",
       "    <tr>\n",
       "      <th>0</th>\n",
       "      <td>Toy Story 3</td>\n",
       "      <td>BV</td>\n",
       "      <td>415,000,000</td>\n",
       "      <td>652,000,000</td>\n",
       "      <td>2010-01-01</td>\n",
       "      <td>2010</td>\n",
       "      <td>1,067,000,000</td>\n",
       "    </tr>\n",
       "    <tr>\n",
       "      <th>1</th>\n",
       "      <td>Alice in Wonderland (2010)</td>\n",
       "      <td>BV</td>\n",
       "      <td>334,200,000</td>\n",
       "      <td>691,300,000</td>\n",
       "      <td>2010-01-01</td>\n",
       "      <td>2010</td>\n",
       "      <td>1,025,500,000</td>\n",
       "    </tr>\n",
       "  </tbody>\n",
       "</table>\n",
       "</div>"
      ],
      "text/plain": [
       "                        title studio  domestic_gross  foreign_gross  \\\n",
       "0                 Toy Story 3     BV     415,000,000    652,000,000   \n",
       "1  Alice in Wonderland (2010)     BV     334,200,000    691,300,000   \n",
       "\n",
       "         year  year_only   total_gross  \n",
       "0  2010-01-01       2010 1,067,000,000  \n",
       "1  2010-01-01       2010 1,025,500,000  "
      ]
     },
     "execution_count": 3,
     "metadata": {},
     "output_type": "execute_result"
    }
   ],
   "source": [
    "bom_df.head(2)  # see what bom columns look like"
   ]
  },
  {
   "cell_type": "markdown",
   "id": "d48a9333",
   "metadata": {},
   "source": [
    "## Data Standardization for Merging\n",
    "\n",
    "Next, we need to standardize titles and years so we can match movies across datasets. We'll convert everything to lowercase and strip whitespace becuase movie titles are inconsistent between sources."
   ]
  },
  {
   "cell_type": "code",
   "execution_count": 4,
   "id": "8fd8618a",
   "metadata": {},
   "outputs": [
    {
     "name": "stdout",
     "output_type": "stream",
     "text": [
      "Sample IMDB join keys:\n",
      "                     primary_title                       join_title  join_year\n",
      "0                        Sunghursh                        sunghursh       2013\n",
      "1  One Day Before the Rainy Season  one day before the rainy season       2019\n",
      "2       The Other Side of the Wind       the other side of the wind       2018\n"
     ]
    }
   ],
   "source": [
    "# Create standardized join keys\n",
    "imdb_df['join_title'] = imdb_df['primary_title'].str.lower().str.strip() \n",
    "imdb_df['join_year'] = imdb_df['start_year']  # already clean\n",
    "\n",
    "bom_df['join_title'] = bom_df['title'].str.lower().str.strip()\n",
    "bom_df['join_year'] = pd.to_datetime(bom_df['year'], errors='coerce').dt.year  # extract year from date\n",
    "\n",
    "# Quick check of our join keys\n",
    "print(\"Sample IMDB join keys:\")\n",
    "print(imdb_df[['primary_title', 'join_title', 'join_year']].head(3))"
   ]
  },
  {
   "cell_type": "markdown",
   "id": "8f177e0d",
   "metadata": {},
   "source": [
    "Let's see if there are any obvious issues with the standardization:"
   ]
  },
  {
   "cell_type": "code",
   "execution_count": 5,
   "id": "399dfc82",
   "metadata": {},
   "outputs": [
    {
     "name": "stdout",
     "output_type": "stream",
     "text": [
      "Unique characters in first 100 titles:\n",
      "{'!', 'a', 'z', 'ú', 'x', 'w', '-', \"'\", '&', 'f', 'ç', '5', 'k', 'j', 'u', 'l', 'v', 'r', '.', 'y', 'ô', 'p', 'b', ':', 'd', '3', 'q', 'ã', 'á', 'o', ' ', 'n', 'h', '2', 'i', 'c', 's', 't', 'e', '1', '4', 'm', 'g'}\n"
     ]
    }
   ],
   "source": [
    "# check for any weird characters or formatting issues\n",
    "print(\"Unique characters in first 100 titles:\")\n",
    "sample_titles = imdb_df['join_title'].head(100).str.cat()\n",
    "print(set(sample_titles))"
   ]
  },
  {
   "cell_type": "markdown",
   "id": "ecf89052",
   "metadata": {},
   "source": [
    "## First Merge: IMDB + Box Office Data\n",
    "\n",
    "Now we'll use an outer merge to see how many movies match between datasets. The indicator flag will help us understand the merge quality."
   ]
  },
  {
   "cell_type": "code",
   "execution_count": 6,
   "id": "472a4f32",
   "metadata": {},
   "outputs": [
    {
     "name": "stdout",
     "output_type": "stream",
     "text": [
      "Merge summary:\n",
      "_merge\n",
      "left_only     81254\n",
      "both           2121\n",
      "right_only     1492\n",
      "Name: count, dtype: int64\n",
      "\n",
      "Match rate: 2.5%\n"
     ]
    }
   ],
   "source": [
    "merged_df = pd.merge(imdb_df, bom_df, \n",
    "                    on=['join_title', 'join_year'], \n",
    "                    how='outer', \n",
    "                    indicator=True)\n",
    "\n",
    "print(\"Merge summary:\")\n",
    "print(merged_df['_merge'].value_counts())\n",
    "print(f\"\\nMatch rate: {merged_df['_merge'].value_counts()['both'] / len(merged_df) * 100:.1f}%\")"
   ]
  },
  {
   "cell_type": "markdown",
   "id": "8e67af3a",
   "metadata": {},
   "source": [
    "As expected, most movies are only in IMDB (left_only) since IMDB has way more movies than box office data. Only about 2,121 movies have both ratings and revenue data.\n",
    "\n",
    "Let's see some examples of movies that didn't match:"
   ]
  },
  {
   "cell_type": "code",
   "execution_count": 7,
   "id": "8553a647",
   "metadata": {},
   "outputs": [
    {
     "name": "stdout",
     "output_type": "stream",
     "text": [
      "Some unmatched IMDB titles:\n",
      "['!Women Art Revolution', '#1 Serial Killer', '#5', '#66', '#AbroHilo', '#ALLMYMOVIES', '#ALLMYMOVIES', '#ALLMYMOVIES', '#artoffline', '#babynymph']\n",
      "\n",
      "Some unmatched BOM titles:\n",
      "[\"'71\", '1,000 Times Good Night', '10 Years', '1001 Grams', '13 Assassins', '13 Hours: The Secret Soldiers of Benghazi', '13 Minutes', '14 Blades', '17 Girls', '2 Autumns, 3 Winters']\n"
     ]
    }
   ],
   "source": [
    "# look at some unmatched titles to understand why they didn't merge\n",
    "unmatched_imdb = merged_df[merged_df['_merge'] == 'left_only']['primary_title'].head(10)\n",
    "unmatched_bom = merged_df[merged_df['_merge'] == 'right_only']['title'].head(10)  # these are from bom only\n",
    "\n",
    "print(\"Some unmatched IMDB titles:\")\n",
    "print(unmatched_imdb.tolist())\n",
    "print(\"\\nSome unmatched BOM titles:\")\n",
    "print(unmatched_bom.tolist())"
   ]
  },
  {
   "cell_type": "markdown",
   "id": "f6dd9e85",
   "metadata": {},
   "source": [
    "## Extracting Successfully Matched Movies\n",
    "\n",
    "We only want to keep movies that matched between both datasets since we need both IMDB ratings and box office numbers for our analysis."
   ]
  },
  {
   "cell_type": "code",
   "execution_count": 8,
   "id": "26f4f6de",
   "metadata": {},
   "outputs": [
    {
     "name": "stdout",
     "output_type": "stream",
     "text": [
      "Movies with both IMDB and box office data: 2121\n"
     ]
    }
   ],
   "source": [
    "matched = merged_df[merged_df['_merge'] == 'both'].copy()\n",
    "print(f\"Movies with both IMDB and box office data: {len(matched)}\")"
   ]
  },
  {
   "cell_type": "markdown",
   "id": "3d0cf454",
   "metadata": {},
   "source": [
    "## Data Cleanup and Renaming\n",
    "\n",
    "Next, we need to clean up our merged dataset. We'll drop the merge indicator and rename some columns for clarity."
   ]
  },
  {
   "cell_type": "code",
   "execution_count": 9,
   "id": "7cd1fca1",
   "metadata": {},
   "outputs": [
    {
     "name": "stdout",
     "output_type": "stream",
     "text": [
      "Cleaned dataset shape: (2121, 21)\n"
     ]
    }
   ],
   "source": [
    "# Drop the merge indicator column\n",
    "matched.drop(columns=['_merge'], inplace=True)  # don't need this anymore\n",
    "\n",
    "# Rename BOM columns to avoid confusion with IMDB columns\n",
    "matched.rename(columns={\n",
    "    'title': 'bom_title',\n",
    "    'year': 'bom_full_date'\n",
    "}, inplace=True)\n",
    "\n",
    "# Reset index for clean numbering\n",
    "matched.reset_index(drop=True, inplace=True)\n",
    "\n",
    "print(f\"Cleaned dataset shape: {matched.shape}\")"
   ]
  },
  {
   "cell_type": "markdown",
   "id": "295ab049",
   "metadata": {},
   "source": [
    "## Handling Multiple People per Movie\n",
    "\n",
    "Since movies have multiple directors/actors, we need to collapse them into single rows. We'll create a function that groups by movie info and combines all the people data."
   ]
  },
  {
   "cell_type": "code",
   "execution_count": 10,
   "id": "57b859f4",
   "metadata": {},
   "outputs": [
    {
     "name": "stdout",
     "output_type": "stream",
     "text": [
      "Before collapsing: 2121 rows\n",
      "After collapsing: 1918 rows\n"
     ]
    }
   ],
   "source": [
    "def collapse_people(df):\n",
    "    \"\"\"\n",
    "    Collapse multiple people (directors/actors) per movie into single rows\n",
    "    by concatenating their names and info\n",
    "    \"\"\"\n",
    "    group_cols = [\n",
    "        'movie_id', 'primary_title', 'original_title', 'start_year',\n",
    "        'runtime_minutes', 'genres', 'averagerating', 'numvotes',\n",
    "        'bom_title', 'studio', 'domestic_gross', 'foreign_gross',\n",
    "        'year_only', 'total_gross'\n",
    "    ]\n",
    "    \n",
    "    return df.groupby(group_cols).agg({\n",
    "        'primary_name': lambda x: ', '.join(sorted(set(x.dropna()))),  # combine all names\n",
    "        'primary_profession': lambda x: ', '.join(sorted(set(x.dropna()))),\n",
    "        'person_id': lambda x: ', '.join(sorted(set(x.dropna()))),\n",
    "    }).reset_index()\n",
    "\n",
    "# Apply the function\n",
    "collapsed_df = collapse_people(matched)\n",
    "\n",
    "print(f\"Before collapsing: {len(matched)} rows\")\n",
    "print(f\"After collapsing: {len(collapsed_df)} rows\")"
   ]
  },
  {
   "cell_type": "markdown",
   "id": "c5cadf31",
   "metadata": {},
   "source": [
    "Let's check what the people data looks like now:"
   ]
  },
  {
   "cell_type": "code",
   "execution_count": 11,
   "id": "0f16db67",
   "metadata": {},
   "outputs": [
    {
     "name": "stdout",
     "output_type": "stream",
     "text": [
      "Sample of combined people data:\n",
      "                     primary_title   primary_name        primary_profession\n",
      "0                            Wazir  Bejoy Nambiar  producer,writer,director\n",
      "1                      On the Road  Walter Salles  director,producer,writer\n",
      "2  The Secret Life of Walter Mitty    Ben Stiller   producer,actor,director\n"
     ]
    }
   ],
   "source": [
    "# see how the collapsed people data looks\n",
    "print(\"Sample of combined people data:\")\n",
    "print(collapsed_df[['primary_title', 'primary_name', 'primary_profession']].head(3))"
   ]
  },
  {
   "cell_type": "markdown",
   "id": "8b5fc4b6",
   "metadata": {},
   "source": [
    "## Adding TMDB Ratings Data\n",
    "\n",
    "Now we need to load TMDB data to get additional rating information. We'll standardize the column names so they don't conflict with IMDB ratings."
   ]
  },
  {
   "cell_type": "code",
   "execution_count": 12,
   "id": "2562689a",
   "metadata": {},
   "outputs": [
    {
     "name": "stdout",
     "output_type": "stream",
     "text": [
      "TMDB dataset shape: (25497, 10)\n"
     ]
    }
   ],
   "source": [
    "# Load TMDB data\n",
    "tmdb = pd.read_csv(\"cleaned_tmdb_movies.csv\")\n",
    "print(f\"TMDB dataset shape: {tmdb.shape}\")\n",
    "\n",
    "# Rename rating columns to avoid confusion\n",
    "collapsed_df = collapsed_df.rename(columns={\n",
    "    'averagerating': 'imdb_rating',\n",
    "    'numvotes': 'imdb_votes'  # make it clear these are imdb votes\n",
    "})\n",
    "\n",
    "tmdb = tmdb.rename(columns={\n",
    "    'vote_average': 'tmdb_rating',\n",
    "    'vote_count': 'tmdb_votes'\n",
    "})"
   ]
  },
  {
   "cell_type": "markdown",
   "id": "beee20e3",
   "metadata": {},
   "source": [
    "Quick peek at TMDB data structure:"
   ]
  },
  {
   "cell_type": "code",
   "execution_count": 13,
   "id": "30dd32a9",
   "metadata": {},
   "outputs": [
    {
     "name": "stdout",
     "output_type": "stream",
     "text": [
      "<class 'pandas.core.frame.DataFrame'>\n",
      "RangeIndex: 25497 entries, 0 to 25496\n",
      "Data columns (total 10 columns):\n",
      " #   Column             Non-Null Count  Dtype  \n",
      "---  ------             --------------  -----  \n",
      " 0   Unnamed: 0         25497 non-null  int64  \n",
      " 1   genre_ids          25497 non-null  object \n",
      " 2   id                 25497 non-null  int64  \n",
      " 3   original_language  25497 non-null  object \n",
      " 4   original_title     25497 non-null  object \n",
      " 5   popularity         25497 non-null  float64\n",
      " 6   release_date       25497 non-null  object \n",
      " 7   title              25497 non-null  object \n",
      " 8   tmdb_rating        25497 non-null  float64\n",
      " 9   tmdb_votes         25497 non-null  int64  \n",
      "dtypes: float64(2), int64(3), object(5)\n",
      "memory usage: 1.9+ MB\n"
     ]
    }
   ],
   "source": [
    "tmdb.info()  # see what we're working with"
   ]
  },
  {
   "cell_type": "markdown",
   "id": "41507d2b",
   "metadata": {},
   "source": [
    "## Preparing TMDB for Merge\n",
    "\n",
    "We need to create standardized join keys for TMDB data. We'll have to extract the year from the release_date field."
   ]
  },
  {
   "cell_type": "code",
   "execution_count": 14,
   "id": "74f4ce32",
   "metadata": {},
   "outputs": [
    {
     "name": "stdout",
     "output_type": "stream",
     "text": [
      "TMDB join key samples:\n",
      "                                          title  \\\n",
      "0  Harry Potter and the Deathly Hallows: Part 1   \n",
      "1                      How to Train Your Dragon   \n",
      "2                                    Iron Man 2   \n",
      "\n",
      "                                     join_title release_date  join_year  \n",
      "0  harry potter and the deathly hallows: part 1   2010-11-19       2010  \n",
      "1                      how to train your dragon   2010-03-26       2010  \n",
      "2                                    iron man 2   2010-05-07       2010  \n"
     ]
    }
   ],
   "source": [
    "# Create join keys for both datasets\n",
    "collapsed_df['join_title'] = collapsed_df['primary_title'].str.lower().str.strip()\n",
    "collapsed_df['join_year'] = collapsed_df['year_only'].astype('Int64')  # handle missing years\n",
    "\n",
    "tmdb['join_title'] = tmdb['title'].str.lower().str.strip()\n",
    "tmdb['join_year'] = pd.to_datetime(tmdb['release_date'], errors='coerce').dt.year.astype('Int64')\n",
    "\n",
    "print(\"TMDB join key samples:\")\n",
    "print(tmdb[['title', 'join_title', 'release_date', 'join_year']].head(3))"
   ]
  },
  {
   "cell_type": "markdown",
   "id": "f202c417",
   "metadata": {},
   "source": [
    "## Merging TMDB Data\n",
    "\n",
    "We'll use a left join since we want to keep all our existing movies even if TMDB doesn't have ratings for them."
   ]
  },
  {
   "cell_type": "code",
   "execution_count": 15,
   "id": "4bea79bb",
   "metadata": {},
   "outputs": [
    {
     "name": "stdout",
     "output_type": "stream",
     "text": [
      "After TMDB merge: (1927, 22)\n",
      "Movies with TMDB ratings: 1675\n"
     ]
    }
   ],
   "source": [
    "final_df = collapsed_df.merge(\n",
    "    tmdb[['join_title', 'join_year', 'tmdb_rating', 'tmdb_votes', 'popularity']],\n",
    "    on=['join_title', 'join_year'],\n",
    "    how='left'  # keep all our movies\n",
    ")\n",
    "\n",
    "print(f\"After TMDB merge: {final_df.shape}\")\n",
    "print(f\"Movies with TMDB ratings: {final_df['tmdb_rating'].notna().sum()}\")"
   ]
  },
  {
   "cell_type": "markdown",
   "id": "8e7f343f",
   "metadata": {},
   "source": [
    "Most of our movies got matched with TMDB data, that's good! We now have both IMDB and TMDB ratings for comparison.\n",
    "\n",
    "Let's compare the rating scales:"
   ]
  },
  {
   "cell_type": "code",
   "execution_count": 16,
   "id": "8f69b4f0",
   "metadata": {},
   "outputs": [
    {
     "name": "stdout",
     "output_type": "stream",
     "text": [
      "IMDB vs TMDB rating comparison:\n",
      "IMDB ratings range: 1.6 - 8.9\n",
      "TMDB ratings range: 3.4 - 9.5\n"
     ]
    }
   ],
   "source": [
    "# quick comparison of rating distributions\n",
    "print(\"IMDB vs TMDB rating comparison:\")\n",
    "print(f\"IMDB ratings range: {final_df['imdb_rating'].min()} - {final_df['imdb_rating'].max()}\")\n",
    "print(f\"TMDB ratings range: {final_df['tmdb_rating'].min()} - {final_df['tmdb_rating'].max()}\")  # should be 0-10 scale"
   ]
  },
  {
   "cell_type": "markdown",
   "id": "4def871a",
   "metadata": {},
   "source": [
    "## Adding Budget Data\n",
    "\n",
    "Next, we need to load The Numbers (TN) budget data and merge it in. This will help us analyze profitability later."
   ]
  },
  {
   "cell_type": "code",
   "execution_count": 17,
   "id": "fdd9112c",
   "metadata": {},
   "outputs": [
    {
     "name": "stdout",
     "output_type": "stream",
     "text": [
      "Movies missing budget data: 830 out of 1927\n",
      "Budget data coverage: 56.9%\n"
     ]
    }
   ],
   "source": [
    "# Load and prepare budget data\n",
    "tn_df = pd.read_csv(\"tn.movie_budgets_clean.csv\")\n",
    "tn_df['join_title'] = tn_df['movie'].str.lower().str.strip()\n",
    "tn_df['join_year'] = tn_df['release_year']  # Already an int\n",
    "\n",
    "# Merge budget data\n",
    "final_df = final_df.merge(\n",
    "    tn_df[['join_title', 'join_year', 'production_budget']],\n",
    "    on=['join_title', 'join_year'],\n",
    "    how='left'\n",
    ")\n",
    "\n",
    "# Check missing budget data\n",
    "missing_budgets = final_df['production_budget'].isna().sum()\n",
    "print(f\"Movies missing budget data: {missing_budgets} out of {len(final_df)}\")\n",
    "print(f\"Budget data coverage: {(1 - missing_budgets/len(final_df)) * 100:.1f}%\")"
   ]
  },
  {
   "cell_type": "markdown",
   "id": "9d6d7b0c",
   "metadata": {},
   "source": [
    "We can see that a lot of movies are missing budget data. This is pretty common, budget info is harder to find than box office numbers.\n",
    "\n",
    "Let's look at budget distribution for movies that have data:"
   ]
  },
  {
   "cell_type": "code",
   "execution_count": 18,
   "id": "8a8e463c",
   "metadata": {},
   "outputs": [
    {
     "name": "stdout",
     "output_type": "stream",
     "text": [
      "Production budget statistics (millions):\n",
      "count     0\n",
      "mean     52\n",
      "std      58\n",
      "min       0\n",
      "25%      13\n",
      "50%      30\n",
      "75%      65\n",
      "max     411\n",
      "Name: production_budget, dtype: float64\n"
     ]
    }
   ],
   "source": [
    "# explore budget ranges\n",
    "budget_stats = final_df['production_budget'].describe()\n",
    "print(\"Production budget statistics (millions):\")\n",
    "print(budget_stats / 1_000_000)  # convert to millions for readability"
   ]
  },
  {
   "cell_type": "markdown",
   "id": "90ea43f6",
   "metadata": {},
   "source": [
    "## Budget Imputation Strategy\n",
    "\n",
    "Since we're missing lots of budget data, we need to try estimating budgets based on genre patterns. The idea is that similar genres probably have similar budget-to-revenue ratios."
   ]
  },
  {
   "cell_type": "code",
   "execution_count": 19,
   "id": "32ad8fa6",
   "metadata": {},
   "outputs": [
    {
     "name": "stdout",
     "output_type": "stream",
     "text": [
      "Revenue-to-budget ratios by genre:\n",
      "main_genre\n",
      "Horror        6\n",
      "Thriller      6\n",
      "Mystery       5\n",
      "Animation     5\n",
      "Documentary   3\n",
      "Adventure     3\n",
      "Comedy        3\n",
      "Romance       3\n",
      "Drama         3\n",
      "Action        2\n",
      "Crime         2\n",
      "Biography     2\n",
      "Fantasy       1\n",
      "Music         0\n",
      "Name: revenue_to_budget_ratio, dtype: float64\n"
     ]
    }
   ],
   "source": [
    "# Extract primary genre from genre list\n",
    "final_df['main_genre'] = final_df['genres'].str.split(',').str[0]\n",
    "\n",
    "# Calculate revenue-to-budget ratios for movies with known budgets\n",
    "valid = final_df.dropna(subset=['production_budget', 'total_gross'])\n",
    "valid = valid[valid['production_budget'] > 0]  # Avoid division by 0\n",
    "valid = valid[valid['total_gross'] > 0]\n",
    "\n",
    "valid['revenue_to_budget_ratio'] = valid['total_gross'] / valid['production_budget']  # roi basically\n",
    "\n",
    "# Get median ratio per genre (more robust than mean)\n",
    "genre_medians = valid.groupby('main_genre')['revenue_to_budget_ratio'].median()\n",
    "\n",
    "print(\"Revenue-to-budget ratios by genre:\")\n",
    "print(genre_medians.sort_values(ascending=False))"
   ]
  },
  {
   "cell_type": "markdown",
   "id": "d0f81825",
   "metadata": {},
   "source": [
    "Interesting! Horror and Thriller movies tend to have the highest return on investment, while Fantasy has the lowest.\n",
    "\n",
    "Let's see how many movies we have per genre for validation:"
   ]
  },
  {
   "cell_type": "code",
   "execution_count": 20,
   "id": "9a5896b2",
   "metadata": {},
   "outputs": [
    {
     "name": "stdout",
     "output_type": "stream",
     "text": [
      "Movies per genre (with budget data):\n",
      "main_genre\n",
      "Action         348\n",
      "Comedy         221\n",
      "Drama          174\n",
      "Adventure      133\n",
      "Biography       92\n",
      "Horror          55\n",
      "Crime           49\n",
      "Documentary      9\n",
      "Animation        6\n",
      "Fantasy          3\n",
      "Mystery          3\n",
      "Thriller         2\n",
      "Music            1\n",
      "Romance          1\n",
      "dtype: int64\n"
     ]
    }
   ],
   "source": [
    "# check sample sizes per genre\n",
    "genre_counts = valid.groupby('main_genre').size().sort_values(ascending=False)\n",
    "print(\"Movies per genre (with budget data):\")\n",
    "print(genre_counts)"
   ]
  },
  {
   "cell_type": "markdown",
   "id": "d7facbcc",
   "metadata": {},
   "source": [
    "## Budget Estimation Function\n",
    "\n",
    "We'll create a function that estimates missing budgets by working backwards from total revenue using genre-specific ratios. Not perfect but better than leaving them blank."
   ]
  },
  {
   "cell_type": "code",
   "execution_count": 21,
   "id": "75e9dd7e",
   "metadata": {},
   "outputs": [
    {
     "name": "stdout",
     "output_type": "stream",
     "text": [
      "Total movies with budget data (real + estimated): 1926\n",
      "Newly estimated budgets: 829\n"
     ]
    }
   ],
   "source": [
    "def estimate_budget(row):\n",
    "    \"\"\"\n",
    "    Estimate production budget using genre-specific revenue ratios\n",
    "    \"\"\"\n",
    "    # If we already have budget data, use it\n",
    "    if pd.notna(row['production_budget']):\n",
    "        return row['production_budget']\n",
    "    \n",
    "    # Get genre and revenue\n",
    "    genre = row['main_genre']\n",
    "    revenue = row['total_gross']\n",
    "    \n",
    "    # Can't estimate if missing key data\n",
    "    if pd.isna(genre) or pd.isna(revenue) or revenue == 0:\n",
    "        return np.nan  # give up\n",
    "    \n",
    "    # Get the ratio for this genre\n",
    "    ratio = genre_medians.get(genre)\n",
    "    if pd.isna(ratio) or ratio == 0:\n",
    "        return np.nan  # no data for this genre\n",
    "    \n",
    "    # Estimate budget = revenue / ratio\n",
    "    return revenue / ratio\n",
    "\n",
    "# Apply the estimation\n",
    "final_df['production_budget_imputed'] = final_df.apply(estimate_budget, axis=1)\n",
    "\n",
    "# Check how many we could estimate\n",
    "estimated = final_df['production_budget_imputed'].notna().sum()\n",
    "original_budget_count = len(final_df) - missing_budgets\n",
    "newly_estimated = estimated - original_budget_count\n",
    "\n",
    "print(f\"Total movies with budget data (real + estimated): {estimated}\")\n",
    "print(f\"Newly estimated budgets: {newly_estimated}\")"
   ]
  },
  {
   "cell_type": "markdown",
   "id": "fc911994",
   "metadata": {},
   "source": [
    "## Final Dataset Summary\n",
    "\n",
    "Let's examine our final cleaned and merged dataset:"
   ]
  },
  {
   "cell_type": "code",
   "execution_count": 23,
   "id": "d3dfcfe8",
   "metadata": {},
   "outputs": [
    {
     "data": {
      "text/html": [
       "<div>\n",
       "<style scoped>\n",
       "    .dataframe tbody tr th:only-of-type {\n",
       "        vertical-align: middle;\n",
       "    }\n",
       "\n",
       "    .dataframe tbody tr th {\n",
       "        vertical-align: top;\n",
       "    }\n",
       "\n",
       "    .dataframe thead th {\n",
       "        text-align: right;\n",
       "    }\n",
       "</style>\n",
       "<table border=\"1\" class=\"dataframe\">\n",
       "  <thead>\n",
       "    <tr style=\"text-align: right;\">\n",
       "      <th></th>\n",
       "      <th>movie_id</th>\n",
       "      <th>primary_title</th>\n",
       "      <th>original_title</th>\n",
       "      <th>start_year</th>\n",
       "      <th>runtime_minutes</th>\n",
       "      <th>genres</th>\n",
       "      <th>imdb_rating</th>\n",
       "      <th>imdb_votes</th>\n",
       "      <th>bom_title</th>\n",
       "      <th>studio</th>\n",
       "      <th>domestic_gross</th>\n",
       "      <th>foreign_gross</th>\n",
       "      <th>year_only</th>\n",
       "      <th>total_gross</th>\n",
       "      <th>primary_name</th>\n",
       "      <th>primary_profession</th>\n",
       "      <th>person_id</th>\n",
       "      <th>join_title</th>\n",
       "      <th>join_year</th>\n",
       "      <th>tmdb_rating</th>\n",
       "      <th>tmdb_votes</th>\n",
       "      <th>popularity</th>\n",
       "      <th>production_budget</th>\n",
       "      <th>main_genre</th>\n",
       "      <th>production_budget_imputed</th>\n",
       "    </tr>\n",
       "  </thead>\n",
       "  <tbody>\n",
       "    <tr>\n",
       "      <th>0</th>\n",
       "      <td>tt0315642</td>\n",
       "      <td>Wazir</td>\n",
       "      <td>Wazir</td>\n",
       "      <td>2,016</td>\n",
       "      <td>103</td>\n",
       "      <td>Action,Crime,Drama</td>\n",
       "      <td>7</td>\n",
       "      <td>15,378</td>\n",
       "      <td>Wazir</td>\n",
       "      <td>Relbig.</td>\n",
       "      <td>1,100,000</td>\n",
       "      <td>0</td>\n",
       "      <td>2,016</td>\n",
       "      <td>1,100,000</td>\n",
       "      <td>Bejoy Nambiar</td>\n",
       "      <td>producer,writer,director</td>\n",
       "      <td>nm2349060</td>\n",
       "      <td>wazir</td>\n",
       "      <td>2016</td>\n",
       "      <td>7</td>\n",
       "      <td>63</td>\n",
       "      <td>4</td>\n",
       "      <td>NaN</td>\n",
       "      <td>Action</td>\n",
       "      <td>477,223</td>\n",
       "    </tr>\n",
       "    <tr>\n",
       "      <th>1</th>\n",
       "      <td>tt0337692</td>\n",
       "      <td>On the Road</td>\n",
       "      <td>On the Road</td>\n",
       "      <td>2,012</td>\n",
       "      <td>124</td>\n",
       "      <td>Adventure,Drama,Romance</td>\n",
       "      <td>6</td>\n",
       "      <td>37,886</td>\n",
       "      <td>On the Road</td>\n",
       "      <td>IFC</td>\n",
       "      <td>744,000</td>\n",
       "      <td>8,000,000</td>\n",
       "      <td>2,012</td>\n",
       "      <td>8,744,000</td>\n",
       "      <td>Walter Salles</td>\n",
       "      <td>director,producer,writer</td>\n",
       "      <td>nm0758574</td>\n",
       "      <td>on the road</td>\n",
       "      <td>2012</td>\n",
       "      <td>6</td>\n",
       "      <td>518</td>\n",
       "      <td>9</td>\n",
       "      <td>NaN</td>\n",
       "      <td>Adventure</td>\n",
       "      <td>3,257,824</td>\n",
       "    </tr>\n",
       "    <tr>\n",
       "      <th>2</th>\n",
       "      <td>tt0359950</td>\n",
       "      <td>The Secret Life of Walter Mitty</td>\n",
       "      <td>The Secret Life of Walter Mitty</td>\n",
       "      <td>2,013</td>\n",
       "      <td>114</td>\n",
       "      <td>Adventure,Comedy,Drama</td>\n",
       "      <td>7</td>\n",
       "      <td>275,300</td>\n",
       "      <td>The Secret Life of Walter Mitty</td>\n",
       "      <td>Fox</td>\n",
       "      <td>58,200,000</td>\n",
       "      <td>129,900,000</td>\n",
       "      <td>2,013</td>\n",
       "      <td>188,100,000</td>\n",
       "      <td>Ben Stiller</td>\n",
       "      <td>producer,actor,director</td>\n",
       "      <td>nm0001774</td>\n",
       "      <td>the secret life of walter mitty</td>\n",
       "      <td>2013</td>\n",
       "      <td>7</td>\n",
       "      <td>4,859</td>\n",
       "      <td>11</td>\n",
       "      <td>91,000,000</td>\n",
       "      <td>Adventure</td>\n",
       "      <td>91,000,000</td>\n",
       "    </tr>\n",
       "    <tr>\n",
       "      <th>3</th>\n",
       "      <td>tt0365907</td>\n",
       "      <td>A Walk Among the Tombstones</td>\n",
       "      <td>A Walk Among the Tombstones</td>\n",
       "      <td>2,014</td>\n",
       "      <td>114</td>\n",
       "      <td>Action,Crime,Drama</td>\n",
       "      <td>6</td>\n",
       "      <td>105,116</td>\n",
       "      <td>A Walk Among the Tombstones</td>\n",
       "      <td>Uni.</td>\n",
       "      <td>26,300,000</td>\n",
       "      <td>26,900,000</td>\n",
       "      <td>2,014</td>\n",
       "      <td>53,200,000</td>\n",
       "      <td>Scott Frank</td>\n",
       "      <td>writer,producer,director</td>\n",
       "      <td>nm0291082</td>\n",
       "      <td>a walk among the tombstones</td>\n",
       "      <td>2014</td>\n",
       "      <td>6</td>\n",
       "      <td>1,685</td>\n",
       "      <td>19</td>\n",
       "      <td>28,000,000</td>\n",
       "      <td>Action</td>\n",
       "      <td>28,000,000</td>\n",
       "    </tr>\n",
       "    <tr>\n",
       "      <th>4</th>\n",
       "      <td>tt0369610</td>\n",
       "      <td>Jurassic World</td>\n",
       "      <td>Jurassic World</td>\n",
       "      <td>2,015</td>\n",
       "      <td>124</td>\n",
       "      <td>Action,Adventure,Sci-Fi</td>\n",
       "      <td>7</td>\n",
       "      <td>539,338</td>\n",
       "      <td>Jurassic World</td>\n",
       "      <td>Uni.</td>\n",
       "      <td>652,300,000</td>\n",
       "      <td>1,019</td>\n",
       "      <td>2,015</td>\n",
       "      <td>652,301,019</td>\n",
       "      <td>Colin Trevorrow</td>\n",
       "      <td>writer,producer,director</td>\n",
       "      <td>nm1119880</td>\n",
       "      <td>jurassic world</td>\n",
       "      <td>2015</td>\n",
       "      <td>7</td>\n",
       "      <td>14,056</td>\n",
       "      <td>21</td>\n",
       "      <td>215,000,000</td>\n",
       "      <td>Action</td>\n",
       "      <td>215,000,000</td>\n",
       "    </tr>\n",
       "  </tbody>\n",
       "</table>\n",
       "</div>"
      ],
      "text/plain": [
       "    movie_id                    primary_title  \\\n",
       "0  tt0315642                            Wazir   \n",
       "1  tt0337692                      On the Road   \n",
       "2  tt0359950  The Secret Life of Walter Mitty   \n",
       "3  tt0365907      A Walk Among the Tombstones   \n",
       "4  tt0369610                   Jurassic World   \n",
       "\n",
       "                    original_title  start_year  runtime_minutes  \\\n",
       "0                            Wazir       2,016              103   \n",
       "1                      On the Road       2,012              124   \n",
       "2  The Secret Life of Walter Mitty       2,013              114   \n",
       "3      A Walk Among the Tombstones       2,014              114   \n",
       "4                   Jurassic World       2,015              124   \n",
       "\n",
       "                    genres  imdb_rating  imdb_votes  \\\n",
       "0       Action,Crime,Drama            7      15,378   \n",
       "1  Adventure,Drama,Romance            6      37,886   \n",
       "2   Adventure,Comedy,Drama            7     275,300   \n",
       "3       Action,Crime,Drama            6     105,116   \n",
       "4  Action,Adventure,Sci-Fi            7     539,338   \n",
       "\n",
       "                         bom_title   studio  domestic_gross  foreign_gross  \\\n",
       "0                            Wazir  Relbig.       1,100,000              0   \n",
       "1                      On the Road      IFC         744,000      8,000,000   \n",
       "2  The Secret Life of Walter Mitty      Fox      58,200,000    129,900,000   \n",
       "3      A Walk Among the Tombstones     Uni.      26,300,000     26,900,000   \n",
       "4                   Jurassic World     Uni.     652,300,000          1,019   \n",
       "\n",
       "   year_only  total_gross     primary_name        primary_profession  \\\n",
       "0      2,016    1,100,000    Bejoy Nambiar  producer,writer,director   \n",
       "1      2,012    8,744,000    Walter Salles  director,producer,writer   \n",
       "2      2,013  188,100,000      Ben Stiller   producer,actor,director   \n",
       "3      2,014   53,200,000      Scott Frank  writer,producer,director   \n",
       "4      2,015  652,301,019  Colin Trevorrow  writer,producer,director   \n",
       "\n",
       "   person_id                       join_title  join_year  tmdb_rating  \\\n",
       "0  nm2349060                            wazir       2016            7   \n",
       "1  nm0758574                      on the road       2012            6   \n",
       "2  nm0001774  the secret life of walter mitty       2013            7   \n",
       "3  nm0291082      a walk among the tombstones       2014            6   \n",
       "4  nm1119880                   jurassic world       2015            7   \n",
       "\n",
       "   tmdb_votes  popularity  production_budget main_genre  \\\n",
       "0          63           4                NaN     Action   \n",
       "1         518           9                NaN  Adventure   \n",
       "2       4,859          11         91,000,000  Adventure   \n",
       "3       1,685          19         28,000,000     Action   \n",
       "4      14,056          21        215,000,000     Action   \n",
       "\n",
       "   production_budget_imputed  \n",
       "0                    477,223  \n",
       "1                  3,257,824  \n",
       "2                 91,000,000  \n",
       "3                 28,000,000  \n",
       "4                215,000,000  "
      ]
     },
     "execution_count": 23,
     "metadata": {},
     "output_type": "execute_result"
    }
   ],
   "source": [
    "final_df.head()"
   ]
  },
  {
   "cell_type": "markdown",
   "id": "08371f15",
   "metadata": {},
   "source": [
    "Our final dataset combines IMDB movie metadata and ratings, Box Office Mojo revenue data, TMDB additional ratings and popularity scores, and The Numbers budget data (real + imputed).\n",
    "We ended up with 1,927 movies with comprehensive data for analysis. Now we're ready for exploratory data analysis and modeling."
   ]
  }
 ],
 "metadata": {
  "kernelspec": {
   "display_name": "base",
   "language": "python",
   "name": "python3"
  },
  "language_info": {
   "codemirror_mode": {
    "name": "ipython",
    "version": 3
   },
   "file_extension": ".py",
   "mimetype": "text/x-python",
   "name": "python",
   "nbconvert_exporter": "python",
   "pygments_lexer": "ipython3",
   "version": "3.12.7"
  }
 },
 "nbformat": 4,
 "nbformat_minor": 5
}
